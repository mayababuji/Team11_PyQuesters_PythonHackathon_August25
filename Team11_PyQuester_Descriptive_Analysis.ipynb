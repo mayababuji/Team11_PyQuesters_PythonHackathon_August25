{
 "cells": [
  {
   "cell_type": "code",
   "execution_count": 3,
   "id": "a9ed62ae-9143-477d-a907-aab6a674580d",
   "metadata": {},
   "outputs": [],
   "source": [
    "import pandas as pd"
   ]
  },
  {
   "cell_type": "code",
   "execution_count": 5,
   "id": "fbbb5f15-46f6-4693-a9dd-28e4a35a00af",
   "metadata": {},
   "outputs": [
    {
     "name": "stdout",
     "output_type": "stream",
     "text": [
      "HUPA-UC Diabetes Dataset/T1DM_patient_sleep_demographics_with_race.csv\n"
     ]
    }
   ],
   "source": [
    "#Downloads/PyQuesters_Python_Hackathon/HUPA-UC Diabetes Dataset\n",
    "path = \"HUPA-UC Diabetes Dataset/\"\n",
    "demographic_path = path + \"T1DM_patient_sleep_demographics_with_race.csv\"\n",
    "all_patients_path = path + \"ALL_PATIENTS.csv\"\n",
    "modified_demographic_path = path+\"DEMOGRAPHIC.csv\"\n",
    "patients_demographic_path = path +\"PATIENTS_WITH_DEMOGRAPHIC.csv\"\n",
    "print(demographic_path)"
   ]
  },
  {
   "cell_type": "markdown",
   "id": "ccc8e9e9-deb9-434d-b7e1-600368130342",
   "metadata": {},
   "source": [
    "***Descriptive Q1: How many participants in the dataset have diabetes, and what is their percentage?***\n",
    "**Reasoning:**\n",
    "**Since understanding the prevalence of diabetes is key to this analysis, examining the proportion of \n",
    "participants with the condition helps contextualize the population.**"
   ]
  },
  {
   "cell_type": "code",
   "execution_count": 7,
   "id": "bf66a5cb-dbb9-4819-aa78-5290b38ce4fa",
   "metadata": {},
   "outputs": [
    {
     "name": "stdout",
     "output_type": "stream",
     "text": [
      "Number of participants by gender:\n",
      "gender\n",
      "Male      16\n",
      "Female     9\n",
      "Name: count, dtype: int64\n",
      "\n",
      "Percentage of participants by gender:\n",
      "gender\n",
      "Male      64.0\n",
      "Female    36.0\n",
      "Name: count, dtype: float64\n",
      "\n",
      "Male participants are higher in number.\n",
      "\n",
      "Number of diabetic participants: 25\n",
      "Percentage of total participants: 100.0\n",
      "\n",
      "Diabetic participants by gender:\n",
      "gender\n",
      "Male      16\n",
      "Female     9\n",
      "Name: count, dtype: int64\n",
      "\n",
      "Percentage of diabetic participants by gender:\n",
      "gender\n",
      "Male      64.0\n",
      "Female    36.0\n",
      "Name: count, dtype: float64\n"
     ]
    }
   ],
   "source": [
    "\n",
    "# Load the merged patient and demographic dataset\n",
    "df = pd.read_csv(patients_demographic_path)\n",
    "\n",
    "# ---------------------------\n",
    "# Step 1: Unique participants by gender\n",
    "# ---------------------------\n",
    "gender_counts = df.groupby('patient_id')['gender'].first().value_counts()\n",
    "gender_percent = gender_counts / gender_counts.sum() * 100\n",
    "\n",
    "print(\"Number of participants by gender:\")\n",
    "print(gender_counts)\n",
    "print(\"\\nPercentage of participants by gender:\")\n",
    "print(gender_percent.round(2))\n",
    "\n",
    "# Gender comparison\n",
    "if gender_counts.get('Female', 0) > gender_counts.get('Male', 0):\n",
    "    print(\"\\nFemale participants are higher in number.\")\n",
    "elif gender_counts.get('Male', 0) > gender_counts.get('Female', 0):\n",
    "    print(\"\\nMale participants are higher in number.\")\n",
    "else:\n",
    "    print(\"\\nNumber of male and female participants are equal.\")\n",
    "\n",
    "# ---------------------------\n",
    "# Step 2: Identify diabetic participants\n",
    "# ---------------------------\n",
    "# Example threshold: max glucose >= 126 mg/dL considered diabetic\n",
    "diabetic_patients = df.groupby('patient_id')['glucose'].max()\n",
    "diabetic_patients = diabetic_patients[diabetic_patients >= 126]\n",
    "\n",
    "print(\"\\nNumber of diabetic participants:\", len(diabetic_patients))\n",
    "print(\"Percentage of total participants:\", \n",
    "      round(len(diabetic_patients)/df['patient_id'].nunique()*100, 2))\n",
    "\n",
    "# ---------------------------\n",
    "# Step 3: Gender-wise distribution of diabetic participants\n",
    "# ---------------------------\n",
    "# Merge with gender information\n",
    "gender_info = df[['patient_id', 'gender']].drop_duplicates()\n",
    "diabetic_gender = gender_info[gender_info['patient_id'].isin(diabetic_patients.index)]\n",
    "diabetic_gender_counts = diabetic_gender['gender'].value_counts()\n",
    "diabetic_gender_percent = diabetic_gender_counts / diabetic_gender_counts.sum() * 100\n",
    "\n",
    "print(\"\\nDiabetic participants by gender:\")\n",
    "print(diabetic_gender_counts)\n",
    "print(\"\\nPercentage of diabetic participants by gender:\")\n",
    "print(diabetic_gender_percent.round(2))\n",
    "\n"
   ]
  },
  {
   "cell_type": "code",
   "execution_count": null,
   "id": "6de41464-e3c7-4619-9065-5349016b0b73",
   "metadata": {},
   "outputs": [],
   "source": []
  }
 ],
 "metadata": {
  "kernelspec": {
   "display_name": "Python [conda env:base] *",
   "language": "python",
   "name": "conda-base-py"
  },
  "language_info": {
   "codemirror_mode": {
    "name": "ipython",
    "version": 3
   },
   "file_extension": ".py",
   "mimetype": "text/x-python",
   "name": "python",
   "nbconvert_exporter": "python",
   "pygments_lexer": "ipython3",
   "version": "3.12.7"
  }
 },
 "nbformat": 4,
 "nbformat_minor": 5
}
