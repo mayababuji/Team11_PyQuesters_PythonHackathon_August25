{
 "cells": [
  {
   "cell_type": "markdown",
   "id": "d32cfa19-a202-475e-b4fd-8fa563aca04b",
   "metadata": {},
   "source": [
    "# Descriptive Analysis"
   ]
  },
  {
   "cell_type": "code",
   "execution_count": 78,
   "id": "578900db-ec44-4a04-8860-8752dbec3bac",
   "metadata": {},
   "outputs": [],
   "source": [
    "import pandas as pd\n",
    "import matplotlib.pyplot as plt"
   ]
  },
  {
   "cell_type": "code",
   "execution_count": 13,
   "id": "fbbb5f15-46f6-4693-a9dd-28e4a35a00af",
   "metadata": {},
   "outputs": [
    {
     "name": "stdout",
     "output_type": "stream",
     "text": [
      "HUPA-UC Diabetes Dataset/T1DM_patient_sleep_demographics_with_race.csv\n"
     ]
    }
   ],
   "source": [
    "#Downloads/PyQuesters_Python_Hackathon/HUPA-UC Diabetes Dataset\n",
    "path = \"HUPA-UC Diabetes Dataset/\"\n",
    "demographic_path = path + \"T1DM_patient_sleep_demographics_with_race.csv\"\n",
    "all_patients_path = path + \"ALL_PATIENTS.csv\"\n",
    "modified_demographic_path = path+\"DEMOGRAPHIC.csv\"\n",
    "patients_demographic_path = path +\"PATIENTS_WITH_DEMOGRAPHIC.csv\"\n",
    "print(demographic_path)"
   ]
  },
  {
   "cell_type": "markdown",
   "id": "ccc8e9e9-deb9-434d-b7e1-600368130342",
   "metadata": {},
   "source": [
    "***Q1: How many participants in the dataset have diabetes, and what is their percentage?***  \n",
    "*Reasoning:*\n",
    "*Since understanding the prevalence of diabetes is key to this analysis, examining the proportion of \n",
    "participants with the condition helps contextualize the population.*"
   ]
  },
  {
   "cell_type": "code",
   "execution_count": 16,
   "id": "bf66a5cb-dbb9-4819-aa78-5290b38ce4fa",
   "metadata": {},
   "outputs": [
    {
     "name": "stdout",
     "output_type": "stream",
     "text": [
      "Number of participants by gender:\n",
      "gender\n",
      "Male      16\n",
      "Female     9\n",
      "Name: count, dtype: int64\n",
      "\n",
      "Percentage of participants by gender:\n",
      "gender\n",
      "Male      64.0\n",
      "Female    36.0\n",
      "Name: count, dtype: float64\n",
      "\n",
      "Male participants are higher in number.\n",
      "\n",
      "Number of diabetic participants: 25\n",
      "Percentage of total participants: 100.0\n",
      "\n",
      "Diabetic participants by gender:\n",
      "gender\n",
      "Male      16\n",
      "Female     9\n",
      "Name: count, dtype: int64\n",
      "\n",
      "Percentage of diabetic participants by gender:\n",
      "gender\n",
      "Male      64.0\n",
      "Female    36.0\n",
      "Name: count, dtype: float64\n"
     ]
    }
   ],
   "source": [
    "\n",
    "# Load the merged patient and demographic dataset\n",
    "df = pd.read_csv(patients_demographic_path)\n",
    "\n",
    "# ---------------------------\n",
    "# Step 1: Unique participants by gender\n",
    "# ---------------------------\n",
    "gender_counts = df.groupby('patient_id')['gender'].first().value_counts()\n",
    "gender_percent = gender_counts / gender_counts.sum() * 100\n",
    "\n",
    "print(\"Number of participants by gender:\")\n",
    "print(gender_counts)\n",
    "print(\"\\nPercentage of participants by gender:\")\n",
    "print(gender_percent.round(2))\n",
    "\n",
    "# Gender comparison\n",
    "if gender_counts.get('Female', 0) > gender_counts.get('Male', 0):\n",
    "    print(\"\\nFemale participants are higher in number.\")\n",
    "elif gender_counts.get('Male', 0) > gender_counts.get('Female', 0):\n",
    "    print(\"\\nMale participants are higher in number.\")\n",
    "else:\n",
    "    print(\"\\nNumber of male and female participants are equal.\")\n",
    "\n",
    "# ---------------------------\n",
    "# Step 2: Identify diabetic participants\n",
    "# ---------------------------\n",
    "# Example threshold: max glucose >= 126 mg/dL considered diabetic\n",
    "diabetic_patients = df.groupby('patient_id')['glucose'].max()\n",
    "diabetic_patients = diabetic_patients[diabetic_patients >= 126]\n",
    "\n",
    "print(\"\\nNumber of diabetic participants:\", len(diabetic_patients))\n",
    "print(\"Percentage of total participants:\", \n",
    "      round(len(diabetic_patients)/df['patient_id'].nunique()*100, 2))\n",
    "\n",
    "# ---------------------------\n",
    "# Step 3: Gender-wise distribution of diabetic participants\n",
    "# ---------------------------\n",
    "# Merge with gender information\n",
    "gender_info = df[['patient_id', 'gender']].drop_duplicates()\n",
    "diabetic_gender = gender_info[gender_info['patient_id'].isin(diabetic_patients.index)]\n",
    "diabetic_gender_counts = diabetic_gender['gender'].value_counts()\n",
    "diabetic_gender_percent = diabetic_gender_counts / diabetic_gender_counts.sum() * 100\n",
    "\n",
    "print(\"\\nDiabetic participants by gender:\")\n",
    "print(diabetic_gender_counts)\n",
    "print(\"\\nPercentage of diabetic participants by gender:\")\n",
    "print(diabetic_gender_percent.round(2))\n",
    "\n"
   ]
  },
  {
   "cell_type": "markdown",
   "id": "ed6eeb25-16f4-4e17-96e0-20fc16aad3e5",
   "metadata": {},
   "source": [
    "***Q2: How does heart rate correlate with physical activity (steps) across patients?***    \n",
    "*Reasoning: Understanding the relationship between heart rate and physical activity helps assess cardiovascular fitness and activity patterns in diabetes patients, which is crucial for comprehensive health monitoring.*"
   ]
  },
  {
   "cell_type": "code",
   "execution_count": 59,
   "id": "222de421-5258-4cc2-82c1-d349200eef42",
   "metadata": {},
   "outputs": [
    {
     "name": "stdout",
     "output_type": "stream",
     "text": [
      "HEART RATE vs PHYSICAL ACTIVITY ANALYSIS\n",
      "==================================================\n",
      "Total records in dataset: 309,392\n",
      "Heart rate range: 32 - 196 bpm\n",
      "Steps range: 0 - 842 steps\n",
      "Records with activity (steps > 0): 90,042\n",
      "Records with no activity (steps = 0): 219,350\n",
      "Percentage of time patients were active: 29.1%\n",
      "\n",
      "Calculating correlation between heart rate and steps\n",
      "Result: Moderate positive correlation\n",
      "\n",
      "Comparing heart rate during activity vs rest\n",
      " - Average heart rate during activity: 88.5 bpm\n",
      " - Average heart rate during rest: 72.2 bpm\n",
      " - Heart rate increase during activity: 16.3 bpm\n",
      "Result: Moderate heart rate response to activity\n"
     ]
    }
   ],
   "source": [
    "print(\"HEART RATE vs PHYSICAL ACTIVITY ANALYSIS\")\n",
    "print(\"=\" * 50)\n",
    "\n",
    "# Step 1: Load and examine the data\n",
    "print(f\"Total records in dataset: {len(df):,}\")\n",
    "print(f\"Heart rate range: {df['heart_rate'].min():.0f} - {df['heart_rate'].max():.0f} bpm\")\n",
    "print(f\"Steps range: {df['steps'].min():.0f} - {df['steps'].max():.0f} steps\")\n",
    "\n",
    "# Step 2: Filter out inactive periods (zero steps) and Create a subset with only active periods (steps > 0)\n",
    "active_data = df[df['steps'] > 0].copy()\n",
    "print(f\"Records with activity (steps > 0): {len(active_data):,}\")\n",
    "print(f\"Records with no activity (steps = 0): {len(df) - len(active_data):,}\")\n",
    "print(f\"Percentage of time patients were active: {len(active_data)/len(df)*100:.1f}%\")\n",
    "\n",
    "# Step 3: Calculate the correlation between heart rate and steps\n",
    "print(\"\\nCalculating correlation between heart rate and steps\")\n",
    "correlation = active_data['heart_rate'].corr(active_data['steps'])\n",
    "\n",
    "# Interpret the result\n",
    "if correlation > 0.7:\n",
    "    strength = \"Strong positive\"\n",
    "elif correlation > 0.3:\n",
    "    strength = \"Moderate positive\"\n",
    "elif correlation > 0.1:\n",
    "    strength = \"Weak positive\"\n",
    "elif correlation > -0.1:\n",
    "    strength = \"Very weak\"\n",
    "elif correlation > -0.3:\n",
    "    strength = \"Weak negative\"\n",
    "else:\n",
    "    strength = \"Moderate to strong negative\"\n",
    "\n",
    "print(f\"Result: {strength} correlation\")\n",
    "\n",
    "# Step 4: Compare heart rate during activity vs rest\n",
    "print(\"\\nComparing heart rate during activity vs rest\")\n",
    "\n",
    "hr_active = active_data['heart_rate'].mean()\n",
    "hr_rest = df[df['steps'] == 0]['heart_rate'].mean()\n",
    "hr_difference = hr_active - hr_rest\n",
    "\n",
    "print(f\" - Average heart rate during activity: {hr_active:.1f} bpm\")\n",
    "print(f\" - Average heart rate during rest: {hr_rest:.1f} bpm\")\n",
    "print(f\" - Heart rate increase during activity: {hr_difference:.1f} bpm\")\n",
    "\n",
    "if hr_difference > 20:\n",
    "    print(\"Result: Significant heart rate response to activity (good cardiovascular response)\")\n",
    "elif hr_difference > 10:\n",
    "    print(\"Result: Moderate heart rate response to activity\")\n",
    "else:\n",
    "    print(\"Result: Minimal heart rate response to activity (may indicate fitness or medication effects)\")\n"
   ]
  },
  {
   "cell_type": "markdown",
   "id": "a61cd8c5-87c7-4e9c-ad40-8c38e69b41d4",
   "metadata": {},
   "source": [
    "***Q3: What is the distribution of calorie expenditure and how does it vary throughout the day?***    \n",
    "*Reasoning: Calorie expenditure patterns reveal daily activity rhythms and metabolic patterns, helping understand energy balance in diabetes patients and optimize meal timing and insulin delivery.*"
   ]
  },
  {
   "cell_type": "code",
   "execution_count": 98,
   "id": "f0446f1d-4662-4360-ad1c-de4eb081b378",
   "metadata": {},
   "outputs": [
    {
     "name": "stdout",
     "output_type": "stream",
     "text": [
      "\n",
      "\n",
      "Distribution of Calorie Expenditure\n",
      "------------------------------------------------------------\n",
      "count    309392.00\n",
      "mean          8.81\n",
      "std           6.93\n",
      "min           0.00\n",
      "25%           5.85\n",
      "50%           6.28\n",
      "75%           9.19\n",
      "max         106.35\n",
      "Name: calories, dtype: float64\n"
     ]
    },
    {
     "data": {
      "image/png": "[encoded data removed]",
      "text/plain": [
       "<Figure size 800x500 with 1 Axes>"
      ]
     },
     "metadata": {},
     "output_type": "display_data"
    }
   ],
   "source": [
    "print(\"\\n\\nDistribution of Calorie Expenditure\")\n",
    "print(\"-\" * 60)\n",
    "\n",
    "# Ensure time column is datetime (optional if not needed for this)\n",
    "df['time'] = pd.to_datetime(df['time'], errors='coerce')\n",
    "\n",
    "# Basic stats\n",
    "print(df['calories'].describe().round(2))\n",
    "\n",
    "# Plot distribution\n",
    "plt.figure(figsize=(8,5))\n",
    "plt.hist(df['calories'], bins=30, color='skyblue', edgecolor='black')\n",
    "plt.title('Calorie Expenditure Distribution')\n",
    "plt.xlabel('Calories (per 5-min)')\n",
    "plt.ylabel('Frequency')\n",
    "plt.tight_layout()\n",
    "plt.show()\n"
   ]
  },
  {
   "cell_type": "code",
   "execution_count": null,
   "id": "11a8efd2-18f8-403b-b3fc-0543c1884e21",
   "metadata": {},
   "outputs": [],
   "source": []
  }
 ],
 "metadata": {
  "kernelspec": {
   "display_name": "Python 3 (ipykernel)",
   "language": "python",
   "name": "python3"
  },
  "language_info": {
   "codemirror_mode": {
    "name": "ipython",
    "version": 3
   },
   "file_extension": ".py",
   "mimetype": "text/x-python",
   "name": "python",
   "nbconvert_exporter": "python",
   "pygments_lexer": "ipython3",
   "version": "3.12.7"
  }
 },
 "nbformat": 4,
 "nbformat_minor": 5
}
