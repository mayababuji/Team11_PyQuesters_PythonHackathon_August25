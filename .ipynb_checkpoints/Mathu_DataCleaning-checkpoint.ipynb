{
 "cells": [
  {
   "cell_type": "code",
   "execution_count": 283,
   "id": "566162e0-caad-4de7-afeb-30caaef2a6d7",
   "metadata": {},
   "outputs": [],
   "source": [
    "#Importing all the Necessary Libraries\n",
    "import pandas as pd\n",
    "import numpy as np\n",
    "import matplotlib.pyplot as plt\n",
    "import seaborn as sns\n",
    "\n",
    "import warnings\n",
    "warnings.simplefilter(\"ignore\", UserWarning)"
   ]
  },
  {
   "cell_type": "code",
   "execution_count": 285,
   "id": "bb49b930-7dd9-4a91-b679-e5e75a8baaf6",
   "metadata": {},
   "outputs": [],
   "source": [
    "#Reading the file \n",
    "demo = pd.read_csv(\"HUPA-UC Diabetes Dataset/T1DM_patient_sleep_demographics_with_race.csv\")\n"
   ]
  },
  {
   "cell_type": "markdown",
   "id": "223342d7-2851-43f4-b45b-d263e344bd86",
   "metadata": {},
   "source": [
    "Renamed columns to stadardize format"
   ]
  },
  {
   "cell_type": "code",
   "execution_count": 287,
   "id": "2344c0eb-117b-41e7-8ea4-a51da85c3cc6",
   "metadata": {},
   "outputs": [],
   "source": [
    "rename_map = {\n",
    "    'Patient_ID': 'patient_id',\n",
    "    'Age': 'age',\n",
    "    'Gender': 'gender',\n",
    "    'Race': 'race',\n",
    "    'Average Sleep Duration (hrs)': 'avg_sleep_hours',\n",
    "    'Sleep Quality (1-10)': 'sleep_quality',\n",
    "    '% with Sleep Disturbances': 'sleep_disturbances_pct'\n",
    "}\n",
    "\n",
    "demo.rename(columns=rename_map, inplace=True)"
   ]
  },
  {
   "cell_type": "code",
   "execution_count": 289,
   "id": "40cebb05-37cd-4310-97eb-690cb6b1a7cb",
   "metadata": {},
   "outputs": [],
   "source": [
    "\n",
    "demo.to_csv(\"cleaned_demographics.csv\", index=False)"
   ]
  },
  {
   "cell_type": "markdown",
   "id": "f4849b57-08f9-43dd-b897-4b68e69fcd43",
   "metadata": {},
   "source": [
    "Combining patient files and added PatientID column"
   ]
  },
  {
   "cell_type": "code",
   "execution_count": 291,
   "id": "0f143adb-a95c-4856-b763-1172dfec32e0",
   "metadata": {},
   "outputs": [],
   "source": [
    "folder = \"HUPA-UC Diabetes Dataset/PatientData/\"\n",
    "files = [f for f in os.listdir(folder) if f.endswith('.csv')]\n",
    "#files\n",
    "\n",
    "patient_list = []\n",
    "\n",
    "for f in files:\n",
    "    # Read CSV (specify sep if needed)\n",
    "    df = pd.read_csv(os.path.join(folder, f), sep=';')\n",
    "    \n",
    "    # Standardize column names\n",
    "    df.columns = df.columns.str.strip().str.lower().str.replace(\" \", \"_\")\n",
    "    \n",
    "   # Use filename without .csv as patient_id (e.g., HUPA0001P)\n",
    "    pid = f.replace(\".csv\", \"\")\n",
    "    df['patient_id'] = pid\n",
    "    \n",
    "    # Append to list\n",
    "    patient_list.append(df)\n",
    "\n",
    "# Combine all dataframes\n",
    "combined = pd.concat(patient_list, ignore_index=True)\n",
    "\n",
    "# Move patient_id to first column\n",
    "cols = combined.columns.tolist()\n",
    "cols.remove('patient_id')\n",
    "cols = ['patient_id'] + cols\n",
    "combined = combined[cols]\n",
    "\n",
    "# Save to CSV with patient_id first\n",
    "combined.to_csv(\"combined_patient_data.csv\", index=False)\n",
    "\n",
    "#combined.info() \n",
    "#combined.columns"
   ]
  },
  {
   "cell_type": "markdown",
   "id": "28c388b9-e8bf-4ba2-a2b5-167f79751789",
   "metadata": {},
   "source": [
    "Splitting datetime into date and time to make dataset more flexible"
   ]
  },
  {
   "cell_type": "code",
   "execution_count": 293,
   "id": "8a6e6eab-faff-4561-9c91-4c8f44ee04b1",
   "metadata": {},
   "outputs": [],
   "source": [
    "combined['time'] = pd.to_datetime(combined['time'], errors='coerce')\n",
    "combined['date'] = combined['time'].dt.date\n",
    "combined['time_only'] = combined['time'].dt.time \n",
    "combined.drop(columns=['time'], inplace=True)\n",
    "combined.to_csv(\"cleaned_patient_data.csv\", index=False)"
   ]
  },
  {
   "cell_type": "code",
   "execution_count": 295,
   "id": "544a8bdd-388b-46c3-8d9b-f6a2e177fa34",
   "metadata": {},
   "outputs": [],
   "source": [
    "#Loop through each file and show info\n",
    "for f in files:\n",
    "  #  print(f\"--- Info for {f} ---\")\n",
    "    df = pd.read_csv(os.path.join(folder, f))\n",
    "    #df.info()\n",
    "  #  print(\"\\n\")"
   ]
  },
  {
   "cell_type": "code",
   "execution_count": 297,
   "id": "f62d5c0d-a7f4-4310-b80c-9355744af1e7",
   "metadata": {},
   "outputs": [],
   "source": [
    "# Load cleaned files\n",
    "combined = pd.read_csv(\"cleaned_patient_data.csv\")\n",
    "demo = pd.read_csv(\"cleaned_demographics.csv\")"
   ]
  },
  {
   "cell_type": "code",
   "execution_count": 299,
   "id": "fa76058c-c32d-4371-be59-e190af5bde66",
   "metadata": {},
   "outputs": [],
   "source": [
    "merged = pd.merge(combined, demo, on=\"patient_id\", how=\"left\")\n",
    "\n",
    "# Clean gender and race\n",
    "merged['gender'] = merged['gender'].str.strip().str.capitalize()\n",
    "merged['race'] = merged['race'].str.strip().str.title()\n",
    "\n",
    "# Save merged dataset\n",
    "merged.to_csv(\"cleaned_patient_with_demo.csv\", index=False)\n",
    "#merged.head"
   ]
  },
  {
   "cell_type": "code",
   "execution_count": 303,
   "id": "46364f41-8b87-4dfb-b9eb-3476703a4b48",
   "metadata": {},
   "outputs": [
    {
     "data": {
      "text/plain": [
       "patient_id                0\n",
       "glucose                   0\n",
       "calories                  0\n",
       "heart_rate                0\n",
       "steps                     0\n",
       "basal_rate                0\n",
       "bolus_volume_delivered    0\n",
       "carb_input                0\n",
       "date                      0\n",
       "time_only                 0\n",
       "age                       0\n",
       "gender                    0\n",
       "race                      0\n",
       "avg_sleep_hours           0\n",
       "sleep_quality             0\n",
       "sleep_disturbances_pct    0\n",
       "dtype: int64"
      ]
     },
     "execution_count": 303,
     "metadata": {},
     "output_type": "execute_result"
    }
   ],
   "source": [
    "merged.isnull().sum()"
   ]
  },
  {
   "cell_type": "code",
   "execution_count": 305,
   "id": "eac791d8-b964-4c22-b34d-b508d8539900",
   "metadata": {},
   "outputs": [],
   "source": [
    "merged.drop_duplicates(inplace=True)"
   ]
  },
  {
   "cell_type": "code",
   "execution_count": 307,
   "id": "7df62327-fe2c-4d47-8496-f1ec4ee6cc91",
   "metadata": {},
   "outputs": [],
   "source": [
    "merged['date'] = pd.to_datetime(merged['date'], errors='coerce')"
   ]
  },
  {
   "cell_type": "code",
   "execution_count": 309,
   "id": "18c908f3-7388-4c9c-9369-b2f89efc646e",
   "metadata": {},
   "outputs": [],
   "source": [
    "# Ensure numeric columns are actually numbers\n",
    "num_cols = ['glucose', 'calories', 'heart_rate', 'steps',\n",
    "            'basal_rate', 'bolus_volume_delivered', 'carb_input', 'age']\n",
    "merged[num_cols] = merged[num_cols].apply(pd.to_numeric, errors='coerce')"
   ]
  },
  {
   "cell_type": "code",
   "execution_count": 315,
   "id": "49e1fea8-a5b5-46ce-aa70-be044892ba9b",
   "metadata": {},
   "outputs": [],
   "source": [
    "merged['glucose'] = merged['glucose'].round(1)\n",
    "merged['calories'] = merged['calories'].round(0)\n",
    "merged['heart_rate'] = merged['heart_rate'].round(0)\n",
    "merged['steps'] = merged['steps'].round(0)\n",
    "merged['basal_rate'] = merged['basal_rate'].round(4)\n",
    "merged['bolus_volume_delivered'] = merged['bolus_volume_delivered'].round(3)\n",
    "merged['carb_input'] = merged['carb_input'].round(1)\n",
    "merged['avg_sleep_hours'] = merged['avg_sleep_hours'].round(1)\n",
    "merged['sleep_quality'] = merged['sleep_quality'].round(1)\n",
    "merged['sleep_disturbances_pct'] = merged['sleep_disturbances_pct'].round(0)"
   ]
  },
  {
   "cell_type": "code",
   "execution_count": 317,
   "id": "a800e4da-0f0c-4c10-a0c6-58942445edf4",
   "metadata": {},
   "outputs": [],
   "source": [
    "# Set negative bolus_volume_delivered values to 0\n",
    "merged['bolus_volume_delivered'] = merged['bolus_volume_delivered'].clip(lower=0)"
   ]
  },
  {
   "cell_type": "code",
   "execution_count": 319,
   "id": "e13b4255-dbe9-4d03-be9e-1fafdc66c6a3",
   "metadata": {},
   "outputs": [],
   "source": [
    "# Save cleaned merged dataset\n",
    "merged.to_csv(\"cleaned_final_dataset.csv\", index=False)"
   ]
  },
  {
   "cell_type": "code",
   "execution_count": null,
   "id": "69feb478-da02-4f25-9587-b5ff6f7bd58d",
   "metadata": {},
   "outputs": [],
   "source": []
  }
 ],
 "metadata": {
  "kernelspec": {
   "display_name": "Python 3 (ipykernel)",
   "language": "python",
   "name": "python3"
  },
  "language_info": {
   "codemirror_mode": {
    "name": "ipython",
    "version": 3
   },
   "file_extension": ".py",
   "mimetype": "text/x-python",
   "name": "python",
   "nbconvert_exporter": "python",
   "pygments_lexer": "ipython3",
   "version": "3.12.7"
  }
 },
 "nbformat": 4,
 "nbformat_minor": 5
}
