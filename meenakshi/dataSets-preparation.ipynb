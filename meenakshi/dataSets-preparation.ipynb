{
 "cells": [
  {
   "cell_type": "code",
   "execution_count": 68,
   "id": "c8e9af5f-ed16-4c9f-9db6-38a4a9180c5f",
   "metadata": {},
   "outputs": [],
   "source": [
    "# importing modules\n",
    "# declaring global variables\n",
    "# creating a dataframe by merging all csv files having patient data\n",
    "# change time into date and time and write the clean data into csv file\n",
    "# dataframe for demographic data by renaming all column names to lowercase with underscore betweeen words\n",
    "# dataframe for merged allpatients and demographic data and created csv file"
   ]
  },
  {
   "cell_type": "code",
   "execution_count": 69,
   "id": "7a79b52c-e552-499a-96b9-fb3a7edaf0fc",
   "metadata": {},
   "outputs": [],
   "source": [
    "import pandas as pd\n",
    "import glob\n",
    "import os"
   ]
  },
  {
   "cell_type": "code",
   "execution_count": 70,
   "id": "9d31d8dc-d839-470e-bf0d-09f88bf224d9",
   "metadata": {},
   "outputs": [],
   "source": [
    "#Global Variables\n",
    "path = \"../HUPA-UC Diabetes Dataset/\"\n",
    "demo_path = path + \"T1DM_patient_sleep_demographics_with_race.csv\"\n",
    "allpatients_path = path + \"allpatients.csv\"\n",
    "patients_demo_path = path +\"patients_demographic.csv\""
   ]
  },
  {
   "cell_type": "code",
   "execution_count": 71,
   "id": "403aaffa-95a9-4198-96a1-1ac96f26a03d",
   "metadata": {},
   "outputs": [
    {
     "data": {
      "text/plain": [
       "Index(['time', 'glucose', 'calories', 'heart_rate', 'steps', 'basal_rate',\n",
       "       'bolus_volume_delivered', 'carb_input', 'patient_id'],\n",
       "      dtype='object')"
      ]
     },
     "execution_count": 71,
     "metadata": {},
     "output_type": "execute_result"
    }
   ],
   "source": [
    "#Creating a dataframe by merging all csv files having patient data\n",
    "csv_files = glob.glob(os.path.join(path,\"H*.csv\"))\n",
    "df_list =[]\n",
    "for file in csv_files:\n",
    "    patientId = os.path.basename(file).split(\".\")[0]\n",
    "    #patientId = int(patientId[6:8])\n",
    "    #print(patientId)\n",
    "    df = pd.read_csv(file,sep=\";\")\n",
    "    df[\"patient_id\"] = patientId\n",
    "    df_list.append(df)\n",
    "patients_df = pd.concat(df_list, ignore_index = True)\n",
    "#print(patients_df[\"PatientId\"].unique())\n",
    "#patients_df[\"time\"]\n",
    "patients_df.columns\n"
   ]
  },
  {
   "cell_type": "code",
   "execution_count": 72,
   "id": "48f0612b-a7cd-46ee-888e-72576c3f65e8",
   "metadata": {},
   "outputs": [
    {
     "data": {
      "text/plain": [
       "0        2018-06-13 18:40:00\n",
       "1        2018-06-13 18:45:00\n",
       "2        2018-06-13 18:50:00\n",
       "3        2018-06-13 18:55:00\n",
       "4        2018-06-13 19:00:00\n",
       "                 ...        \n",
       "309387   2022-05-18 11:55:00\n",
       "309388   2022-05-18 12:00:00\n",
       "309389   2022-05-18 12:05:00\n",
       "309390   2022-05-18 12:10:00\n",
       "309391   2022-05-18 12:15:00\n",
       "Name: time, Length: 309392, dtype: datetime64[ns]"
      ]
     },
     "execution_count": 72,
     "metadata": {},
     "output_type": "execute_result"
    }
   ],
   "source": [
    "#change time into date and time and write the clean data into csv file\n",
    "#reason: 1.time is in String format. To analyze and manipulate time-series data, time should be in datetime format\n",
    "#2. To filter data by date, extracting time compnents, and sorting efficiently\n",
    "patients_df[\"time\"] = pd.to_datetime(patients_df[\"time\"], errors=\"coerce\")\n",
    "patients_df[\"time\"]\n",
    "\n",
    "#patients_df.to_csv(allpatients_path,index=False)"
   ]
  },
  {
   "cell_type": "code",
   "execution_count": 73,
   "id": "0693de1a-f383-4af9-8826-8ffc976791cc",
   "metadata": {},
   "outputs": [
    {
     "data": {
      "text/plain": [
       "Index(['patient_id', 'age', 'gender', 'race', 'avg_sleep_duration_hrs',\n",
       "       'sleep_quality_score', 'sleep_disturbances_Percentage'],\n",
       "      dtype='object')"
      ]
     },
     "execution_count": 73,
     "metadata": {},
     "output_type": "execute_result"
    }
   ],
   "source": [
    "demographic_df = pd.read_csv(demo_path)\n",
    "demographic_df.columns\n",
    "demographic_df = demographic_df.rename(columns={\"Patient_ID\":\"patient_id\",\"Age\":\"age\",\"Gender\":\"gender\",\"Race\":\"race\",\"Average Sleep Duration (hrs)\":\"avg_sleep_duration_hrs\",\"Sleep Quality (1-10)\":\"sleep_quality_score\",\"% with Sleep Disturbances\":\"sleep_disturbances_Percentage\"})\n",
    "demographic_df.columns"
   ]
  },
  {
   "cell_type": "code",
   "execution_count": 67,
   "id": "4616ae15-5f5d-46cd-aded-fa6aec3cbc21",
   "metadata": {},
   "outputs": [
    {
     "data": {
      "text/plain": [
       "Index(['time', 'glucose', 'calories', 'heart_rate', 'steps', 'basal_rate',\n",
       "       'bolus_volume_delivered', 'carb_input', 'patient_id', 'age', 'gender',\n",
       "       'race', 'avg_sleep_duration_hrs', 'sleep_quality_score',\n",
       "       'sleep_disturbances_percentage'],\n",
       "      dtype='object')"
      ]
     },
     "execution_count": 67,
     "metadata": {},
     "output_type": "execute_result"
    }
   ],
   "source": [
    "#Dataframe for merged allpatients and demographic data and created csv file\n",
    "patients_demo_df = pd.merge(patients_df,demographic_df, on =\"patient_id\", how=\"inner\")\n",
    "patients_demo_df.to_csv(patients_demo_path, index=False)\n",
    "patients_demo_df.columns\n"
   ]
  }
 ],
 "metadata": {
  "kernelspec": {
   "display_name": "Python 3 (ipykernel)",
   "language": "python",
   "name": "python3"
  },
  "language_info": {
   "codemirror_mode": {
    "name": "ipython",
    "version": 3
   },
   "file_extension": ".py",
   "mimetype": "text/x-python",
   "name": "python",
   "nbconvert_exporter": "python",
   "pygments_lexer": "ipython3",
   "version": "3.12.7"
  }
 },
 "nbformat": 4,
 "nbformat_minor": 5
}
