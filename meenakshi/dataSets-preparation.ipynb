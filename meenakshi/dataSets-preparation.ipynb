{
 "cells": [
  {
   "cell_type": "code",
   "execution_count": 7,
   "id": "7a79b52c-e552-499a-96b9-fb3a7edaf0fc",
   "metadata": {},
   "outputs": [],
   "source": [
    "import pandas as pd\n",
    "import glob\n",
    "import os"
   ]
  },
  {
   "cell_type": "code",
   "execution_count": 8,
   "id": "9d31d8dc-d839-470e-bf0d-09f88bf224d9",
   "metadata": {},
   "outputs": [],
   "source": [
    "#Global Variables\n",
    "path = \"../HUPA-UC Diabetes Dataset/\"\n",
    "demo_path = path + \"T1DM_patient_sleep_demographics_with_race.csv\"\n",
    "allpatients_path = path + \"allpatients.csv\"\n",
    "patients_demo_path = path +\"patients_demographic.csv\""
   ]
  },
  {
   "cell_type": "code",
   "execution_count": 9,
   "id": "403aaffa-95a9-4198-96a1-1ac96f26a03d",
   "metadata": {},
   "outputs": [
    {
     "name": "stdout",
     "output_type": "stream",
     "text": [
      "['HUPA0001P' 'HUPA0002P' 'HUPA0003P' 'HUPA0004P' 'HUPA0005P' 'HUPA0006P'\n",
      " 'HUPA0007P' 'HUPA0009P' 'HUPA0010P' 'HUPA0011P' 'HUPA0014P' 'HUPA0015P'\n",
      " 'HUPA0016P' 'HUPA0017P' 'HUPA0018P' 'HUPA0019P' 'HUPA0020P' 'HUPA0021P'\n",
      " 'HUPA0022P' 'HUPA0023P' 'HUPA0024P' 'HUPA0025P' 'HUPA0026P' 'HUPA0027P'\n",
      " 'HUPA0028P']\n"
     ]
    }
   ],
   "source": [
    "#merging all csv files haiving patient data and created csv file\n",
    "csv_files = glob.glob(os.path.join(path,\"H*.csv\"))\n",
    "df_list =[]\n",
    "for file in csv_files:\n",
    "    patientId = os.path.basename(file).split(\".\")[0]\n",
    "    df = pd.read_csv(file,sep=\";\")\n",
    "    df[\"Patient_ID\"] = patientId\n",
    "    df_list.append(df)\n",
    "patients_df = pd.concat(df_list, ignore_index = True)\n",
    "print(patients_df[\"Patient_ID\"].unique())\n",
    "\n",
    "patients_df.to_csv(allpatients_path,index=False)"
   ]
  },
  {
   "cell_type": "code",
   "execution_count": 10,
   "id": "3ddfdcf2-38f4-42e7-8f5a-a5c92ac81157",
   "metadata": {},
   "outputs": [
    {
     "data": {
      "text/html": [
       "<div>\n",
       "<style scoped>\n",
       "    .dataframe tbody tr th:only-of-type {\n",
       "        vertical-align: middle;\n",
       "    }\n",
       "\n",
       "    .dataframe tbody tr th {\n",
       "        vertical-align: top;\n",
       "    }\n",
       "\n",
       "    .dataframe thead th {\n",
       "        text-align: right;\n",
       "    }\n",
       "</style>\n",
       "<table border=\"1\" class=\"dataframe\">\n",
       "  <thead>\n",
       "    <tr style=\"text-align: right;\">\n",
       "      <th></th>\n",
       "      <th>Patient_ID</th>\n",
       "      <th>Age</th>\n",
       "      <th>Gender</th>\n",
       "      <th>Race</th>\n",
       "      <th>Average Sleep Duration (hrs)</th>\n",
       "      <th>Sleep Quality (1-10)</th>\n",
       "      <th>% with Sleep Disturbances</th>\n",
       "    </tr>\n",
       "  </thead>\n",
       "  <tbody>\n",
       "    <tr>\n",
       "      <th>0</th>\n",
       "      <td>HUPA0001P</td>\n",
       "      <td>34</td>\n",
       "      <td>Male</td>\n",
       "      <td>Other</td>\n",
       "      <td>6.3</td>\n",
       "      <td>4.5</td>\n",
       "      <td>80</td>\n",
       "    </tr>\n",
       "    <tr>\n",
       "      <th>1</th>\n",
       "      <td>HUPA0002P</td>\n",
       "      <td>49</td>\n",
       "      <td>Male</td>\n",
       "      <td>Hispanic</td>\n",
       "      <td>6.6</td>\n",
       "      <td>4.4</td>\n",
       "      <td>40</td>\n",
       "    </tr>\n",
       "    <tr>\n",
       "      <th>2</th>\n",
       "      <td>HUPA0003P</td>\n",
       "      <td>64</td>\n",
       "      <td>Male</td>\n",
       "      <td>Black</td>\n",
       "      <td>5.3</td>\n",
       "      <td>5.2</td>\n",
       "      <td>70</td>\n",
       "    </tr>\n",
       "    <tr>\n",
       "      <th>3</th>\n",
       "      <td>HUPA0004P</td>\n",
       "      <td>34</td>\n",
       "      <td>Female</td>\n",
       "      <td>Native American</td>\n",
       "      <td>5.2</td>\n",
       "      <td>6.9</td>\n",
       "      <td>60</td>\n",
       "    </tr>\n",
       "    <tr>\n",
       "      <th>4</th>\n",
       "      <td>HUPA0005P</td>\n",
       "      <td>49</td>\n",
       "      <td>Male</td>\n",
       "      <td>Native American</td>\n",
       "      <td>5.8</td>\n",
       "      <td>7.9</td>\n",
       "      <td>30</td>\n",
       "    </tr>\n",
       "  </tbody>\n",
       "</table>\n",
       "</div>"
      ],
      "text/plain": [
       "  Patient_ID  Age  Gender             Race  Average Sleep Duration (hrs)  \\\n",
       "0  HUPA0001P   34    Male            Other                           6.3   \n",
       "1  HUPA0002P   49    Male         Hispanic                           6.6   \n",
       "2  HUPA0003P   64    Male            Black                           5.3   \n",
       "3  HUPA0004P   34  Female  Native American                           5.2   \n",
       "4  HUPA0005P   49    Male  Native American                           5.8   \n",
       "\n",
       "   Sleep Quality (1-10)  % with Sleep Disturbances  \n",
       "0                   4.5                         80  \n",
       "1                   4.4                         40  \n",
       "2                   5.2                         70  \n",
       "3                   6.9                         60  \n",
       "4                   7.9                         30  "
      ]
     },
     "execution_count": 10,
     "metadata": {},
     "output_type": "execute_result"
    }
   ],
   "source": [
    "# dataframe for demographic data\n",
    "demographic_df = pd.read_csv(demo_path)\n",
    "demographic_df.head()\n"
   ]
  },
  {
   "cell_type": "code",
   "execution_count": 11,
   "id": "4616ae15-5f5d-46cd-aded-fa6aec3cbc21",
   "metadata": {},
   "outputs": [
    {
     "data": {
      "text/plain": [
       "Index(['time', 'glucose', 'calories', 'heart_rate', 'steps', 'basal_rate',\n",
       "       'bolus_volume_delivered', 'carb_input', 'Patient_ID', 'Age', 'Gender',\n",
       "       'Race', 'Average Sleep Duration (hrs)', 'Sleep Quality (1-10)',\n",
       "       '% with Sleep Disturbances'],\n",
       "      dtype='object')"
      ]
     },
     "execution_count": 11,
     "metadata": {},
     "output_type": "execute_result"
    }
   ],
   "source": [
    "#Dataframe for merged allpatients and demographic data and created csv file\n",
    "patients_demo_df = pd.merge(patients_df,demographic_df, on =\"Patient_ID\", how=\"inner\")\n",
    "patients_demo_df.to_csv(patients_demo_path, index=False)\n",
    "patients_demo_df.columns\n"
   ]
  }
 ],
 "metadata": {
  "kernelspec": {
   "display_name": "Python 3 (ipykernel)",
   "language": "python",
   "name": "python3"
  },
  "language_info": {
   "codemirror_mode": {
    "name": "ipython",
    "version": 3
   },
   "file_extension": ".py",
   "mimetype": "text/x-python",
   "name": "python",
   "nbconvert_exporter": "python",
   "pygments_lexer": "ipython3",
   "version": "3.12.7"
  }
 },
 "nbformat": 4,
 "nbformat_minor": 5
}
