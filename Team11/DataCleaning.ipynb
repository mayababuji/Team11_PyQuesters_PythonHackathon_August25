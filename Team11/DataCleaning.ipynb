{
 "cells": [
  {
   "cell_type": "code",
   "execution_count": 154,
   "id": "c8e9af5f-ed16-4c9f-9db6-38a4a9180c5f",
   "metadata": {},
   "outputs": [],
   "source": [
    "# Three datasets are created \n",
    "# These Datasets are created after cleaning all the datasets provided \n",
    "# All_PATIENTS.csv This Dataset contains all 25 patients data from HCPA000*P.csv\n",
    "# DEMOGRAPHIC.csv This dataset contains demogrpahic data provided in  \"T1DM_patient_sleep_demographics_with_race.csv\"\n",
    "# PATINETS_WITH_DEMOGRAPHIC.csv This dataset is merge of above two datasets\n",
    "# This Jupyter notebooks has cells:\n",
    "    # importing modules\n",
    "    # declaring variables\n",
    "    # creating a dataframe by merging all csv files having patient data\n",
    "    # change time into date and time and write the clean data into csv file\n",
    "    # dataframe for demographic data by renaming all column names to lowercase with underscore betweeen words and created csv file\n",
    "    # dataframe for merged allpatients and demographic data and created csv file"
   ]
  },
  {
   "cell_type": "code",
   "execution_count": 155,
   "id": "7a79b52c-e552-499a-96b9-fb3a7edaf0fc",
   "metadata": {},
   "outputs": [],
   "source": [
    "import pandas as pd\n",
    "import glob\n",
    "import os"
   ]
  },
  {
   "cell_type": "code",
   "execution_count": 156,
   "id": "9d31d8dc-d839-470e-bf0d-09f88bf224d9",
   "metadata": {},
   "outputs": [],
   "source": [
    "#Variables\n",
    "path = \"../HUPA-UC Diabetes Dataset/\"\n",
    "demographic_path = path + \"T1DM_patient_sleep_demographics_with_race.csv\"\n",
    "all_patients_path = path + \"ALL_PATIENTS.csv\"\n",
    "modified_demographic_path = path+\"DEMOGRAPHIC.csv\"\n",
    "patients_demographic_path = path +\"PATIENTS_WITH_DEMOGRAPHIC.csv\""
   ]
  },
  {
   "cell_type": "code",
   "execution_count": 157,
   "id": "403aaffa-95a9-4198-96a1-1ac96f26a03d",
   "metadata": {},
   "outputs": [
    {
     "data": {
      "text/plain": [
       "Index(['time', 'glucose', 'calories', 'heart_rate', 'steps', 'basal_rate',\n",
       "       'bolus_volume_delivered', 'carb_input', 'patient_id'],\n",
       "      dtype='object')"
      ]
     },
     "execution_count": 157,
     "metadata": {},
     "output_type": "execute_result"
    }
   ],
   "source": [
    "#Creating a dataframe by merging all csv files having patient data\n",
    "csv_files = glob.glob(os.path.join(path,\"H*.csv\"))\n",
    "df_list =[]\n",
    "for file in csv_files:\n",
    "    patientId = os.path.basename(file).split(\".\")[0]\n",
    "    df = pd.read_csv(file,sep=\";\")\n",
    "    df[\"patient_id\"] = patientId\n",
    "    df_list.append(df)\n",
    "patients_df = pd.concat(df_list, ignore_index = True)\n",
    "patients_df.columns"
   ]
  },
  {
   "cell_type": "code",
   "execution_count": 158,
   "id": "48f0612b-a7cd-46ee-888e-72576c3f65e8",
   "metadata": {},
   "outputs": [],
   "source": [
    "#change time into date and time and write the clean data into csv file\n",
    "#reason: 1.time is in String format. To analyze and manipulate time-series data, time should be in datetime format\n",
    "#2. To filter data by date, extracting time compnents, and sorting efficiently\n",
    "#patients_df[\"time\"] = pd.to_datetime(patients_df[\"time\"], errors=\"coerce\")\n",
    "#patients_df[\"time\"].dt.day==13\n",
    "\n",
    "patients_df.to_csv(all_patients_path,index=False)\n"
   ]
  },
  {
   "cell_type": "code",
   "execution_count": 159,
   "id": "0693de1a-f383-4af9-8826-8ffc976791cc",
   "metadata": {},
   "outputs": [],
   "source": [
    "#Renamed Column names as per the HUPA standred naming conventions and created new csv file\n",
    "demographic_df = pd.read_csv(demographic_path)\n",
    "demographic_df.rename(columns={\"Patient_ID\":\"patient_id\",\"Age\":\"age\",\"Gender\":\"gender\",\"Race\":\"race\",\"Average Sleep Duration (hrs)\":\"avg_sleep_duration_hrs\",\"Sleep Quality (1-10)\":\"sleep_quality_score\",\"% with Sleep Disturbances\":\"sleep_disturbances_percentage\"},inplace = True)\n",
    "demographic_df.columns\n",
    "demographic_df.to_csv(modified_demographic_path, index=False)\n"
   ]
  },
  {
   "cell_type": "code",
   "execution_count": 160,
   "id": "4616ae15-5f5d-46cd-aded-fa6aec3cbc21",
   "metadata": {},
   "outputs": [
    {
     "data": {
      "text/plain": [
       "Index(['time', 'glucose', 'calories', 'heart_rate', 'steps', 'basal_rate',\n",
       "       'bolus_volume_delivered', 'carb_input', 'patient_id', 'age', 'gender',\n",
       "       'race', 'avg_sleep_duration_hrs', 'sleep_quality_score',\n",
       "       'sleep_disturbances_percentage'],\n",
       "      dtype='object')"
      ]
     },
     "execution_count": 160,
     "metadata": {},
     "output_type": "execute_result"
    }
   ],
   "source": [
    "#Dataframe for merged allpatients and demographic data and created csv file\n",
    "patients_demo_df = pd.merge(patients_df,demographic_df, on =\"patient_id\", how=\"inner\")\n",
    "patients_demo_df.to_csv(patients_demographic_path, index=False)\n",
    "patients_demo_df.columns\n"
   ]
  }
 ],
 "metadata": {
  "kernelspec": {
   "display_name": "Python 3 (ipykernel)",
   "language": "python",
   "name": "python3"
  },
  "language_info": {
   "codemirror_mode": {
    "name": "ipython",
    "version": 3
   },
   "file_extension": ".py",
   "mimetype": "text/x-python",
   "name": "python",
   "nbconvert_exporter": "python",
   "pygments_lexer": "ipython3",
   "version": "3.12.7"
  }
 },
 "nbformat": 4,
 "nbformat_minor": 5
}
