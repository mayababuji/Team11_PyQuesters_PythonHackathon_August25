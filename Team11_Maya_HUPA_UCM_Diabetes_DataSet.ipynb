{
 "cells": [
  {
   "cell_type": "code",
   "execution_count": null,
   "id": "8ad61b83-53d6-4714-a6ec-857005a04cd1",
   "metadata": {},
   "outputs": [],
   "source": [
    "pip install --upgrade ydata-profiling"
   ]
  },
  {
   "cell_type": "code",
   "execution_count": null,
   "id": "8cac578e-8adb-422e-815e-eaa46860a525",
   "metadata": {},
   "outputs": [],
   "source": [
    "#Importing all the Necessary Libraries\n",
    "import pandas as pd\n",
    "import glob\n",
    "import os\n",
    "import numpy as np\n",
    "import matplotlib.pyplot as plt\n",
    "import seaborn as sns\n",
    "from ydata_profiling import ProfileReport"
   ]
  },
  {
   "cell_type": "markdown",
   "id": "5a7f711a-781b-4b7c-baf0-46ab5fa85732",
   "metadata": {},
   "source": [
    "**This section defines the file paths for the HUPA-UC Diabetes Dataset and various CSV outputs.**"
   ]
  },
  {
   "cell_type": "code",
   "execution_count": null,
   "id": "b1e659cd-9f81-46f5-844f-cb019efedbaa",
   "metadata": {},
   "outputs": [],
   "source": [
    "#Downloads/PyQuesters_Python_Hackathon/HUPA-UC Diabetes Dataset\n",
    "path = \"HUPA-UC Diabetes Dataset/\"\n",
    "demographic_path = path + \"T1DM_patient_sleep_demographics_with_race.csv\"\n",
    "all_patients_path = path + \"ALL_PATIENTS.csv\"\n",
    "modified_demographic_path = path+\"DEMOGRAPHIC.csv\"\n",
    "patients_demographic_path = path +\"PATIENTS_WITH_DEMOGRAPHIC.csv\""
   ]
  },
  {
   "cell_type": "markdown",
   "id": "43bd7082-6f49-44d9-b3dd-b98b223d5cf4",
   "metadata": {},
   "source": [
    "**This code reads all CSV files containing patient data, adds a patient_id column based on the filename, concatenates them into a single DataFrame, and saves it as a new CSV file.**\n",
    "**Key Steps:**\n",
    "\n",
    "- **List CSV Files:** Use glob to get all patient CSV files starting with \"H\".\n",
    "\n",
    "- **Read & Annotate:** Read each CSV and add a patient_id column extracted from the filename.\n",
    "\n",
    "- **Concatenate DataFrames:** Merge all individual DataFrames into one using pd.concat().\n",
    "\n",
    "- **Save CSV:** Export the combined DataFrame to a CSV file without the index column."
   ]
  },
  {
   "cell_type": "code",
   "execution_count": null,
   "id": "f1dca4f9-5713-4b04-a6d0-139bd5e299f7",
   "metadata": {},
   "outputs": [],
   "source": [
    "#Creating a dataframe by merging all csv files having patient data\n",
    "csv_files = glob.glob(os.path.join(path,\"H*.csv\"))\n",
    "print(csv_files)\n",
    "df_list =[]\n",
    "for file in csv_files:\n",
    "    patientId = os.path.basename(file).split(\".\")[0]\n",
    "    df = pd.read_csv(file,sep=\";\")\n",
    "    df[\"patient_id\"] = patientId\n",
    "    df_list.append(df)\n",
    "patients_df = pd.concat(df_list, ignore_index = True)\n",
    "patients_df.columns\n",
    "patients_df.to_csv(all_patients_path,index=False)\n"
   ]
  },
  {
   "cell_type": "markdown",
   "id": "36c28557-c130-4d1d-a01f-a2197fbc201c",
   "metadata": {},
   "source": [
    "**Data Cleaning and Standardization**\n",
    "**Rename columns according to HUPA standard naming conventions, and save the modified DataFrame to a new CSV file.**\n",
    "\n",
    "**Key Steps:**\n",
    "\n",
    "- **Read CSV:** Load the demographic dataset into a Pandas DataFrame.\n",
    "- **Rename Columns:** Align column names with HUPA naming standards for consistency.\n",
    "- **Save CSV:** Export the modified DataFrame to a new CSV without the index column.\n"
   ]
  },
  {
   "cell_type": "code",
   "execution_count": null,
   "id": "873fef2b-1434-46c1-a6d7-fd053f18f574",
   "metadata": {},
   "outputs": [],
   "source": [
    "#Renamed Column names as per the HUPA standred naming conventions and created new csv filedemographic_df = pd.read_csv(demographic_path)\n",
    "demographic_df.rename(columns={\"Patient_ID\":\"patient_id\",\"Age\":\"age\",\"Gender\":\"gender\",\"Race\":\"race\",\"Average Sleep Duration (hrs)\":\"avg_sleep_duration_hrs\",\"Sleep Quality (1-10)\":\"sleep_quality_score\",\"% with Sleep Disturbances\":\"sleep_disturbances_percentage\"},inplace = True)\n",
    "demographic_df.columns\n",
    "demographic_df.to_csv(modified_demographic_path, index=False)"
   ]
  },
  {
   "cell_type": "markdown",
   "id": "d8d8ffba-4d3c-4d48-8304-31ab41910850",
   "metadata": {},
   "source": [
    "**This code merges the combined patient dataset with the demographic dataset on patient_id and saves the resulting DataFrame as a new CSV file.**\n",
    "**Key Steps:**\n",
    "\n",
    "- **Merge DataFrames:** Use pd.merge() with how=\"inner\" to combine patient and demographic datasets based on patient_id.\n",
    "\n",
    "- **Save CSV:** Export the merged DataFrame to a CSV file without including the index column.\n",
    "\n",
    "- **Verify Columns:** Check the resulting columns to ensure all patient and demographic data are included."
   ]
  },
  {
   "cell_type": "code",
   "execution_count": null,
   "id": "c32e4479-e868-452f-848b-f5708efdd5b5",
   "metadata": {},
   "outputs": [],
   "source": [
    "#Dataframe for merged allpatients and demographic data and created csv file\n",
    "patients_demo_df = pd.merge(patients_df,demographic_df, on =\"patient_id\", how=\"inner\")\n",
    "patients_demo_df.to_csv(patients_demographic_path, index=False)\n",
    "patients_demo_df.columns"
   ]
  },
  {
   "cell_type": "markdown",
   "id": "0999b6a2-66f5-41e5-ab5f-c2c6a98bf921",
   "metadata": {},
   "source": [
    "**Data Cleaning and Standardization**\n",
    "**2. Time Conversion**\n",
    "**Key Steps:**\n",
    "- **a. The time column is converted from text (object) to proper datetime format using pd.to_datetime() so as to sort, filter, or calculate with it meaningfully.If time stays as a string (object), Python just sees it as plain text**\n",
    "- \n",
    "- **b. Any invalid or unrecognized time values are set to NaT (Not a Time) using errors='coerce'. c. A new column Patient_ID is added to uniquely identify each participant, derived from the filename.**"
   ]
  },
  {
   "cell_type": "code",
   "execution_count": null,
   "id": "874605ef-cc06-4150-a4fa-e176885589f8",
   "metadata": {},
   "outputs": [],
   "source": [
    "\n",
    "patients_demo_df['time'] = pd.to_datetime(patients_demo_df['time'], errors='coerce')\n",
    "\n"
   ]
  },
  {
   "cell_type": "markdown",
   "id": "6747eabf-ecc6-442f-b823-1e53cb209f26",
   "metadata": {},
   "source": [
    "**Data Cleaning and Standardization**\n",
    "\n",
    "**3.Insulin Dose Cleaning**\n",
    "**Key Steps:**\n",
    "    - **a. The column bolus_volume_delivered (insulin dose administered) is checked for invalid negative values.**\n",
    "    - **Since negative doses are not meaningful, all negative values are replaced with 0**\n",
    "    \n",
    "    "
   ]
  },
  {
   "cell_type": "code",
   "execution_count": null,
   "id": "e13d0cd4-4a29-4811-9376-92554744488e",
   "metadata": {},
   "outputs": [],
   "source": [
    "patients_demo_df.loc[patients_demo_df['bolus_volume_delivered'] < 0, 'bolus_volume_delivered'] = 0"
   ]
  },
  {
   "cell_type": "markdown",
   "id": "59c7a686-9c83-40ae-8918-b370755ca16f",
   "metadata": {},
   "source": [
    "**Data Cleaning and Standardization**\n",
    "**4. Heart Rate**\n",
    "**Key Steps:**\n",
    "    - **a. Rounded heart_rate values to the nearest integer.**\n",
    "    - **b. This ensures values are clinically interpretable, since heart rate is typically measured in whole beats per minute (BPM).**"
   ]
  },
  {
   "cell_type": "code",
   "execution_count": null,
   "id": "df187bd8-4a00-435f-ac8d-f7eae6fae3a0",
   "metadata": {},
   "outputs": [],
   "source": [
    "## Round heart_rate to nearest integer for Clinical/medical analysis \n",
    "patients_demo_df['heart_rate'] = patients_demo_df['heart_rate'].round(0).astype(int)"
   ]
  },
  {
   "cell_type": "markdown",
   "id": "94576c82-05a4-4f98-9c42-1f409f96c318",
   "metadata": {},
   "source": [
    "**Data Cleaning and Standardization**\n",
    "**5. Basal Insulin Rate**\n",
    "**Key Steps:**\n",
    "    - **a. Created a new column basal_rate_cleaned by adjusting basal_rate to realistic increments of 0.025 units/hour (a common resolution in insulin pumps).**\n",
    "    - **b.Very small noise values (< 0.025) were clipped to 0 to avoid meaningless fluctuations.**"
   ]
  },
  {
   "cell_type": "code",
   "execution_count": null,
   "id": "76ec16a2-fb19-498f-add4-d2939e3edfc8",
   "metadata": {},
   "outputs": [],
   "source": [
    "# changing to  realistic basal_rate for modeling/analysis.\n",
    "patients_demo_df['basal_rate_cleaned'] = (patients_demo_df['basal_rate'] / 0.025).round() * 0.025\n",
    "# clip tiny noise values\n",
    "patients_demo_df.loc[patients_demo_df['basal_rate_cleaned'] < 0.025, 'basal_rate_cleaned'] = 0"
   ]
  },
  {
   "cell_type": "markdown",
   "id": "b76e419d-6819-4cc8-860e-bfab11164251",
   "metadata": {},
   "source": [
    "**Data Cleaning and Standardization**\n",
    "**6. Calories**\n",
    "**Key Steps:**\n",
    "    - **a. Rounded calories to 1 decimal place for readability and consistent reporting.**"
   ]
  },
  {
   "cell_type": "code",
   "execution_count": null,
   "id": "39bde8c7-c0c0-4f19-ac92-cdf6fc8da5d8",
   "metadata": {},
   "outputs": [],
   "source": [
    "#Round calories to 1 decimal place\n",
    "patients_demo_df['calories'] = patients_demo_df['calories'].round(1)"
   ]
  },
  {
   "cell_type": "markdown",
   "id": "0b38e29f-5f41-4e3f-ad69-3e06c1d48792",
   "metadata": {},
   "source": [
    "**Data Cleaning and Standardization**\n",
    "**7. Glucose**\n",
    "**Key Steps:**\n",
    "    - **a. Rounded glucose to 1 decimal place for easier comparison and clinical interpretation.**"
   ]
  },
  {
   "cell_type": "code",
   "execution_count": null,
   "id": "8e6782fc-6d79-4f03-b1c8-1b4c76f55217",
   "metadata": {},
   "outputs": [],
   "source": [
    "#Round glucose to 1 decimal place\n",
    "patients_demo_df['glucose'] = patients_demo_df['glucose'].round(1)"
   ]
  },
  {
   "cell_type": "code",
   "execution_count": null,
   "id": "5046d54d-5cd1-465c-a2fd-78ccba2a230d",
   "metadata": {},
   "outputs": [],
   "source": [
    "patients_demo_df.shape\n",
    "print(patients_demo_df.columns)\n",
    "missingvalues_percentage = patients_demo_df.isnull().mean() * 100"
   ]
  },
  {
   "cell_type": "code",
   "execution_count": null,
   "id": "7e22cf2f-7d9d-4544-8b57-ab2220a5ef1f",
   "metadata": {},
   "outputs": [],
   "source": [
    "# Convert Series → DataFrame\n",
    "missing_df = missingvalues_percentage.reset_index()\n",
    "missing_df.columns = [\"column\", \"missing_pct\"]\n",
    "\n",
    "plt.figure(figsize=(10,6))\n",
    "sns.barplot(data=missing_df, x=\"missing_pct\", y=\"column\", color=\"skyblue\")\n",
    "plt.title(\"Percentage of Missing Values per Column\", fontsize=15)\n",
    "plt.xlabel(\"Percentage Missing Values\", fontsize=12)\n",
    "plt.ylabel(\"Column Names\", fontsize=12)\n",
    "plt.show()\n"
   ]
  },
  {
   "cell_type": "code",
   "execution_count": null,
   "id": "b4ecfa1c-a015-47fc-9a68-94307b465962",
   "metadata": {},
   "outputs": [],
   "source": [
    "cleaned_df = pd.DataFrame(patients_demo_df)\n",
    "cleaned_df.to_csv(\"cleaned_df_output.csv\")"
   ]
  },
  {
   "cell_type": "markdown",
   "id": "a87223c5-6e74-4fd1-8eb0-7cc766b9caee",
   "metadata": {},
   "source": [
    "**Data Quality Report**\n",
    "\n",
    "**This Python function generates a comprehensive data quality report for a given DataFrame. It checks for missing values, duplicates, data types, numeric ranges, and impossible or outlier values.**\n",
    "**Key Checks Performed:**\n",
    "    - **Dataset shape – rows and columns.**\n",
    "    - **Missing values – column-wise count.**\n",
    "    - **Duplicate rows – total duplicates in the dataset.**\n",
    "    - **Data types – helps ensure correct types for analysis.**\n",
    "    - **Patient ID uniqueness – checks for repeated patients.**\n",
    "    - **Numeric summary – min, max, mean values of numeric columns.**\n",
    "    - **Time range – earliest and latest timestamps.**\n",
    "    - **Impossible/outlier values – negative values or unrealistic glucose readings.**\n",
    "    - **Value ranges – ensures columns like glucose, steps, heart rate, and calories fall in reasonable ranges**"
   ]
  },
  {
   "cell_type": "code",
   "execution_count": null,
   "id": "553ffcbc-d65c-4256-87ec-90b3774dc80c",
   "metadata": {},
   "outputs": [],
   "source": [
    "import pandas as pd\n",
    "\n",
    "def data_quality_report(df):\n",
    "    print(\"DATA QUALITY REPORT\")\n",
    "    print(\"=\"*50)\n",
    "    \n",
    "    # Shape\n",
    "    print(f\"Rows: {df.shape[0]}, Columns: {df.shape[1]}\")\n",
    "    print(\"=\"*50)\n",
    "    \n",
    "    # Missing values\n",
    "    print(\"*\"*50)\n",
    "    print(\"\\n Check for Missing Values:\")\n",
    "    print(\"*\"*50)\n",
    "    print(\"\\n Number of missing column values are:\\n\", df.isnull().sum())\n",
    "    \n",
    "    # Duplicates\n",
    "    print(\"*\"*50)\n",
    "    print(\"\\n Check for Duplicate Rows:\")\n",
    "    print(\"*\"*50)\n",
    "    print(\"\\n Number of duplicate rows  are :\", df.duplicated().sum())\n",
    "    \n",
    "    # Data types\n",
    "    print(\"*\"*50)\n",
    "    print(\"\\n Check for Column Data Types:\")\n",
    "    print(\"*\"*50)\n",
    "    print(df.dtypes)\n",
    "    \n",
    "    # Unique Patient IDs\n",
    "    if \"Patient_ID\" in df.columns:\n",
    "        print(\"*\"*50)\n",
    "        print(\"\\n Check for Patient IDs uniqueness and number of records:\")\n",
    "        print(\"*\"*50)\n",
    "        print(\"Number of Unique Patient IDs:\", df['Patient_ID'].nunique())\n",
    "        print(\"Total patient records are  :\", len(df))\n",
    "    \n",
    "    # Numeric ranges\n",
    "    print(\"*\"*50)\n",
    "    print(\"\\n Check for Numeric Column Summary:\")\n",
    "    print(\"*\"*50)\n",
    "    print(df.describe().T[['min', 'max', 'mean']])\n",
    "    \n",
    "    # Time range\n",
    "    if \"time\" in df.columns:\n",
    "        print(\"*\"*50)\n",
    "        print(\"\\n Check for Time Range to check if time is continuous :\")\n",
    "        print(\"*\"*50)\n",
    "        print(\"Earliest time :\", df['time'].min())\n",
    "        print(\"Latest time  :\", df['time'].max())\n",
    "        \n",
    "    \n",
    "    #Check for impossible or outlier values\n",
    "    print(\"*\"*50)\n",
    "    print(\"\\n Check for Impossible or outlier values:\")\n",
    "    print(\"*\"*50)\n",
    "    print(\"Negative glucose values:\", (df['glucose'] < 0).sum())\n",
    "    print(\"Negative steps values:\", (df['steps'] < 0).sum())\n",
    "    print(\"Negative calories values:\", (df['calories'] < 0).sum())\n",
    "    print(\"Negative heart_rate values:\", (df['heart_rate'] < 0).sum())\n",
    "    print(\"Negative glucose:\", (patient_df['glucose'] < 0).sum())\n",
    "    print(\"Unrealistic glucose > 600:\", (patient_df['glucose'] > 600).sum())\n",
    "    print(\"Negative Insulin dose administered(bolus_volume_delivered) values:\", (df['bolus_volume_delivered'] < 0).sum())\n",
    "    \n",
    "\n",
    "    #check for range of values\n",
    "    print(\"*\"*50)\n",
    "    print(\"\\n Check for range of  values for Glucose Hear rate ,Calories ,Insulin dose administered (units) and Steps:\")\n",
    "    print(\"*\"*50)\n",
    "    print(\"Glucose range:\", patient_df['glucose'].min(), \"-\", patient_df['glucose'].max())\n",
    "    print(\"Heart rate range:\", patient_df['heart_rate'].min(), \"-\", patient_df['heart_rate'].max())\n",
    "    print(\"Calories range:\", patient_df['calories'].min(), \"-\", patient_df['calories'].max())\n",
    "    print(\"Steps range:\", patient_df['steps'].min(), \"-\", patient_df['steps'].max())\n",
    "    print(\"Insulin dose administered (units) range:\", patient_df['basal_rate'].min(), \"-\", patient_df['basal_rate'].max())\n",
    "    print(\"=\"*50)\n",
    "\n",
    "    print(\"DATA QUALITY REPORT Completed\")\n",
    "\n",
    "# Example usage\n",
    "data_quality_report(patients_demo_df)\n"
   ]
  },
  {
   "cell_type": "code",
   "execution_count": null,
   "id": "434ee399-f6ea-4ba5-8ec7-943d748ecc39",
   "metadata": {},
   "outputs": [],
   "source": []
  }
 ],
 "metadata": {
  "kernelspec": {
   "display_name": "Python [conda env:base] *",
   "language": "python",
   "name": "conda-base-py"
  },
  "language_info": {
   "codemirror_mode": {
    "name": "ipython",
    "version": 3
   },
   "file_extension": ".py",
   "mimetype": "text/x-python",
   "name": "python",
   "nbconvert_exporter": "python",
   "pygments_lexer": "ipython3",
   "version": "3.12.7"
  }
 },
 "nbformat": 4,
 "nbformat_minor": 5
}
