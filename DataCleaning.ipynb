{
 "cells": [
  {
   "cell_type": "markdown",
   "id": "f4b55ae7-d64f-4c12-90ca-2dad15743cab",
   "metadata": {},
   "source": [
    "***Three datasets are created.  \n",
    "These Datasets are created after cleaning all the datasets provided  \n",
    "All_PATIENTS.csv This Dataset contains all 25 patients data from HCPA000*P.csv  \n",
    "DEMOGRAPHIC.csv This dataset contains demogrpahic data provided in \"T1DM_patient_sleep_demographics_with_race.csv\" PATINETS_WITH_DEMOGRAPHIC.csv This dataset is merge of above two datasets***\n",
    "<pre><strong>\n",
    "This Jupyter notebooks has cells:\n",
    "    Importing modules  \n",
    "    Declaring variables  \n",
    "    A common function for Data Quality Report  \n",
    "    A function for patients data set to generate a Data Quality Report  \n",
    "    A function for demographic \n",
    "    data set to generate a Data Quality Report  \n",
    "    A dataframe by merging all csv files having patient data  \n",
    "    Change time into date and time and write the clean data into csv file  \n",
    "    Dataframe for demographic data by renaming all column names to lowercase with underscore betweeen words and created csv file  \n",
    "    Dataframe for merged allpatients and demographic data and created csv file  \n",
    "    Data Quality report of demographic data set  \n",
    "    Data Quality report of merged patients and demographic data sets  \n",
    "</strong><pre>"
   ]
  },
  {
   "cell_type": "code",
   "execution_count": 21,
   "id": "7a79b52c-e552-499a-96b9-fb3a7edaf0fc",
   "metadata": {},
   "outputs": [],
   "source": [
    "import pandas as pd\n",
    "import glob\n",
    "import os"
   ]
  },
  {
   "cell_type": "code",
   "execution_count": 25,
   "id": "9d31d8dc-d839-470e-bf0d-09f88bf224d9",
   "metadata": {},
   "outputs": [],
   "source": [
    "#Variables\n",
    "path = \"HUPA-UC Diabetes Dataset/\"\n",
    "demographic_path = path + \"T1DM_patient_sleep_demographics_with_race.csv\"\n",
    "all_patients_path = path + \"ALL_PATIENTS.csv\"\n",
    "modified_demographic_path = path+\"DEMOGRAPHIC.csv\"\n",
    "patients_demographic_path = path +\"PATIENTS_WITH_DEMOGRAPHIC.csv\""
   ]
  },
  {
   "cell_type": "code",
   "execution_count": 23,
   "id": "618ec7bd-0f41-4285-a2f1-18d287c37ca6",
   "metadata": {},
   "outputs": [],
   "source": [
    "def data_quality_report_common(df):\n",
    "    print(\"DATA QUALITY REPORT\")\n",
    "    print(\"=\"*50)\n",
    "    \n",
    "    # Shape\n",
    "    print(f\"Rows: {df.shape[0]}, Columns: {df.shape[1]}\")\n",
    "    print(\"=\"*50)\n",
    "    \n",
    "    # Missing values\n",
    "    print(\"*\"*50)\n",
    "    print(\"\\n Check for Missing Values:\")\n",
    "    print(\"*\"*50)\n",
    "    print(\"\\n Number of missing column values are:\\n\",df.isnull().sum(), \" \")\n",
    "    \n",
    "    # Duplicates\n",
    "    print(\"*\"*50)\n",
    "    print(\"\\n Check for Duplicate Rows:\")\n",
    "    print(\"*\"*50)\n",
    "    print(\"\\n Number of duplicate rows  are :\", df.duplicated().sum())\n",
    "    \n",
    "    # Data types\n",
    "    print(\"*\"*50)\n",
    "    print(\"\\n Check for Column Data Types:\")\n",
    "    print(\"*\"*50)\n",
    "    print(df.dtypes)\n",
    "    \n",
    "    # Unique Patient IDs\n",
    "    if \"patient_id\" in df.columns:\n",
    "        print(\"*\"*50)\n",
    "        print(\"\\n Check for Patient IDs uniqueness and number of records:\")\n",
    "        print(\"*\"*50)\n",
    "        print(\"Number of Unique Patient IDs:\", df['patient_id'].nunique())\n",
    "        print(\"Total patient records are  :\", len(df))\n",
    "    \n",
    "    # Numeric ranges\n",
    "    print(\"*\"*50)\n",
    "    print(\"\\n Check for Numeric Column Summary:\")\n",
    "    print(\"*\"*50)\n",
    "    print(df.describe().T[['min', 'max', 'mean']])\n",
    "    "
   ]
  },
  {
   "cell_type": "code",
   "execution_count": 24,
   "id": "c2a443c1-17ac-4487-b718-8b152c5ea7ee",
   "metadata": {},
   "outputs": [],
   "source": [
    " #Check for impossible or outlier values\n",
    "def demographic_data_quality_report(df):\n",
    "     #Check for impossible or outlier values\n",
    "    print(\"*\"*50)\n",
    "    print(\"\\n Check for Impossible or outlier values:\")\n",
    "    print(\"*\"*50)\n",
    "    print('Number of invalid age value (0-100)', ((demographic_df['age']<0) | (demographic_df['age']>100)).sum())\n",
    "    print(\"Number of invalid Gender values not ['Male'], ['Female']\", \n",
    "          ((demographic_df['gender']!='Male') & (demographic_df['gender']!='Female')).sum())\n",
    "    print(\"Number of avg sleep hours greater than 24\", (demographic_df['avg_sleep_duration_hrs']>24).sum())\n",
    "    print(\"Number of invalid sleep quality score value(1-10)\", \n",
    "          ((demographic_df['sleep_quality_score']<1) & (demographic_df['sleep_quality_score']>10)).sum())\n",
    "    print(\"Number of invalid sleep disturbances percentage >100\",(demographic_df['sleep_disturbances_percentage']>100).sum())\n",
    "    print(\"=\"*50)\n"
   ]
  },
  {
   "cell_type": "code",
   "execution_count": 37,
   "id": "403aaffa-95a9-4198-96a1-1ac96f26a03d",
   "metadata": {},
   "outputs": [
    {
     "data": {
      "text/plain": [
       "Index(['time', 'glucose', 'calories', 'heart_rate', 'steps', 'basal_rate',\n",
       "       'bolus_volume_delivered', 'carb_input', 'patient_id'],\n",
       "      dtype='object')"
      ]
     },
     "execution_count": 37,
     "metadata": {},
     "output_type": "execute_result"
    }
   ],
   "source": [
    "#Creating a dataframe by merging all csv files having patient data\n",
    "csv_files = glob.glob(os.path.join(path,\"H*.csv\"))\n",
    "df_list =[]\n",
    "for file in csv_files:\n",
    "    patientId = os.path.basename(file).split(\".\")[0]\n",
    "    df = pd.read_csv(file,sep=\";\")\n",
    "    df[\"patient_id\"] = patientId\n",
    "    df_list.append(df)\n",
    "patients_df = pd.concat(df_list, ignore_index = True)\n",
    "patients_df.columns"
   ]
  },
  {
   "cell_type": "code",
   "execution_count": 27,
   "id": "48f0612b-a7cd-46ee-888e-72576c3f65e8",
   "metadata": {},
   "outputs": [],
   "source": [
    "#change time into date and time and write the clean data into csv file\n",
    "#reason: 1.time is in String format. To analyze and manipulate time-series data, time should be in datetime format\n",
    "#2. To filter data by date, extracting time compnents, and sorting efficiently\n",
    "#patients_df[\"time\"] = pd.to_datetime(patients_df[\"time\"], errors=\"coerce\")\n",
    "#patients_df[\"time\"].dt.day==13\n",
    "\n",
    "patients_df.to_csv(all_patients_path,index=False)\n"
   ]
  },
  {
   "cell_type": "code",
   "execution_count": 28,
   "id": "0693de1a-f383-4af9-8826-8ffc976791cc",
   "metadata": {},
   "outputs": [],
   "source": [
    "#Renamed Column names as per the HUPA standred naming conventions and created new csv file\n",
    "demographic_df = pd.read_csv(demographic_path)\n",
    "demographic_df.rename(columns={\"Patient_ID\":\"patient_id\",\"Age\":\"age\",\"Gender\":\"gender\",\"Race\":\"race\",\"Average Sleep Duration (hrs)\":\"avg_sleep_duration_hrs\",\"Sleep Quality (1-10)\":\"sleep_quality_score\",\"% with Sleep Disturbances\":\"sleep_disturbances_percentage\"},inplace = True)\n",
    "demographic_df.columns\n",
    "demographic_df.to_csv(modified_demographic_path, index=False)\n"
   ]
  },
  {
   "cell_type": "code",
   "execution_count": 32,
   "id": "4616ae15-5f5d-46cd-aded-fa6aec3cbc21",
   "metadata": {},
   "outputs": [
    {
     "data": {
      "text/plain": [
       "Index(['time', 'glucose', 'calories', 'heart_rate', 'steps', 'basal_rate',\n",
       "       'bolus_volume_delivered', 'carb_input', 'patient_id', 'age', 'gender',\n",
       "       'race', 'avg_sleep_duration_hrs', 'sleep_quality_score',\n",
       "       'sleep_disturbances_percentage'],\n",
       "      dtype='object')"
      ]
     },
     "execution_count": 32,
     "metadata": {},
     "output_type": "execute_result"
    }
   ],
   "source": [
    "#Dataframe for merged allpatients and demographic data and created csv file\n",
    "patients_demographic_df = pd.merge(patients_df,demographic_df, on =\"patient_id\", how=\"inner\")\n",
    "patients_demographic_df.to_csv(patients_demographic_path, index=False)\n",
    "patients_demographic_df.columns\n"
   ]
  },
  {
   "cell_type": "code",
   "execution_count": null,
   "id": "d7335967-49b5-4131-8129-07555bc8d77c",
   "metadata": {},
   "outputs": [],
   "source": [
    "# Data Quality Report\n",
    "\n",
    "# This Python function generates a comprehensive data quality report for a given DataFrame. It checks for missing values, duplicates, data types, numeric ranges, and impossible or outlier values.\n",
    "\n",
    "# Key Checks Performed:\n",
    "\n",
    "# Dataset shape – rows and columns.\n",
    "\n",
    "# Missing values – column-wise count.\n",
    "\n",
    "# Duplicate rows – total duplicates in the dataset.\n",
    "\n",
    "# Data types – helps ensure correct types for analysis.\n",
    "\n",
    "# Patient ID uniqueness – checks for repeated patients.\n",
    "\n",
    "# Numeric summary – min, max, mean values of numeric columns.\n",
    "\n",
    "# Time range – earliest and latest timestamps.\n",
    "\n",
    "# Impossible/outlier values – negative values or unrealistic glucose readings.\n",
    "\n",
    "# Value ranges – ensures columns like glucose, steps, heart rate, and calories fall in reasonable ranges"
   ]
  },
  {
   "cell_type": "code",
   "execution_count": 30,
   "id": "8659f156-10a7-4240-819f-b6659ff098af",
   "metadata": {},
   "outputs": [
    {
     "name": "stdout",
     "output_type": "stream",
     "text": [
      "DATA QUALITY REPORT\n",
      "==================================================\n",
      "Rows: 25, Columns: 7\n",
      "==================================================\n",
      "**************************************************\n",
      "\n",
      " Check for Missing Values:\n",
      "**************************************************\n",
      "\n",
      " Number of missing column values are:\n",
      " patient_id                       0\n",
      "age                              0\n",
      "gender                           0\n",
      "race                             0\n",
      "avg_sleep_duration_hrs           0\n",
      "sleep_quality_score              0\n",
      "sleep_disturbances_percentage    0\n",
      "dtype: int64  \n",
      "**************************************************\n",
      "\n",
      " Check for Duplicate Rows:\n",
      "**************************************************\n",
      "\n",
      " Number of duplicate rows  are : 0\n",
      "**************************************************\n",
      "\n",
      " Check for Column Data Types:\n",
      "**************************************************\n",
      "patient_id                        object\n",
      "age                                int64\n",
      "gender                            object\n",
      "race                              object\n",
      "avg_sleep_duration_hrs           float64\n",
      "sleep_quality_score              float64\n",
      "sleep_disturbances_percentage      int64\n",
      "dtype: object\n",
      "**************************************************\n",
      "\n",
      " Check for Patient IDs uniqueness and number of records:\n",
      "**************************************************\n",
      "Number of Unique Patient IDs: 25\n",
      "Total patient records are  : 25\n",
      "**************************************************\n",
      "\n",
      " Check for Numeric Column Summary:\n",
      "**************************************************\n",
      "                                min   max    mean\n",
      "age                            20.0  74.0  46.680\n",
      "avg_sleep_duration_hrs          5.0   7.2   5.972\n",
      "sleep_quality_score             4.1   7.9   5.952\n",
      "sleep_disturbances_percentage  30.0  80.0  52.800\n",
      "**************************************************\n",
      "\n",
      " Check for Impossible or outlier values:\n",
      "**************************************************\n",
      "Number of invalid age value (0-100) 0\n",
      "Number of invalid Gender values not ['Male'], ['Female'] 0\n",
      "Number of avg sleep hours greater than 24 0\n",
      "Number of invalid sleep quality score value(1-10) 0\n",
      "Number of invalid sleep disturbances percentage >100 0\n",
      "==================================================\n",
      "DATA QUALITY REPORT Completed\n"
     ]
    }
   ],
   "source": [
    "#Data Quality Report for demographic data\n",
    "data_quality_report_common(demographic_df)\n",
    "demographic_data_quality_report(demographic_df)\n",
    "print(\"DATA QUALITY REPORT Completed\")\n"
   ]
  },
  {
   "cell_type": "code",
   "execution_count": 35,
   "id": "a6265a90-fee6-43fd-a877-4ccd890b008e",
   "metadata": {},
   "outputs": [
    {
     "name": "stdout",
     "output_type": "stream",
     "text": [
      "DATA QUALITY REPORT\n",
      "==================================================\n",
      "Rows: 309392, Columns: 15\n",
      "==================================================\n",
      "**************************************************\n",
      "\n",
      " Check for Missing Values:\n",
      "**************************************************\n",
      "\n",
      " Number of missing column values are:\n",
      " time                             0\n",
      "glucose                          0\n",
      "calories                         0\n",
      "heart_rate                       0\n",
      "steps                            0\n",
      "basal_rate                       0\n",
      "bolus_volume_delivered           0\n",
      "carb_input                       0\n",
      "patient_id                       0\n",
      "age                              0\n",
      "gender                           0\n",
      "race                             0\n",
      "avg_sleep_duration_hrs           0\n",
      "sleep_quality_score              0\n",
      "sleep_disturbances_percentage    0\n",
      "dtype: int64  \n",
      "**************************************************\n",
      "\n",
      " Check for Duplicate Rows:\n",
      "**************************************************\n",
      "\n",
      " Number of duplicate rows  are : 0\n",
      "**************************************************\n",
      "\n",
      " Check for Column Data Types:\n",
      "**************************************************\n",
      "time                              object\n",
      "glucose                          float64\n",
      "calories                         float64\n",
      "heart_rate                       float64\n",
      "steps                            float64\n",
      "basal_rate                       float64\n",
      "bolus_volume_delivered           float64\n",
      "carb_input                       float64\n",
      "patient_id                        object\n",
      "age                                int64\n",
      "gender                            object\n",
      "race                              object\n",
      "avg_sleep_duration_hrs           float64\n",
      "sleep_quality_score              float64\n",
      "sleep_disturbances_percentage      int64\n",
      "dtype: object\n",
      "**************************************************\n",
      "\n",
      " Check for Patient IDs uniqueness and number of records:\n",
      "**************************************************\n",
      "Number of Unique Patient IDs: 25\n",
      "Total patient records are  : 309392\n",
      "**************************************************\n",
      "\n",
      " Check for Numeric Column Summary:\n",
      "**************************************************\n",
      "                                     min         max        mean\n",
      "glucose                        40.000000  444.000000  141.425051\n",
      "calories                        0.000000  106.350000    8.813568\n",
      "heart_rate                     32.407773  195.615385   76.990001\n",
      "steps                           0.000000  842.000000   30.825005\n",
      "basal_rate                      0.000000    0.250000    0.041324\n",
      "bolus_volume_delivered         -3.000000   19.800000    0.066058\n",
      "carb_input                      0.000000  130.000000    0.052718\n",
      "age                            20.000000   74.000000   53.332727\n",
      "avg_sleep_duration_hrs          5.000000    7.200000    5.665791\n",
      "sleep_quality_score             4.100000    7.900000    5.916159\n",
      "sleep_disturbances_percentage  30.000000   80.000000   54.376972\n",
      "**************************************************\n",
      "\n",
      " Check for Impossible or outlier values:\n",
      "**************************************************\n",
      "Number of invalid age value (0-100) 0\n",
      "Number of invalid Gender values not ['Male'], ['Female'] 0\n",
      "Number of avg sleep hours greater than 24 0\n",
      "Number of invalid sleep quality score value(1-10) 0\n",
      "Number of invalid sleep disturbances percentage >100 0\n",
      "==================================================\n",
      "DATA QUALITY REPORT Completed\n"
     ]
    }
   ],
   "source": [
    "#Data Quality Report for merged all patients and demographic data\n",
    "data_quality_report_common(patients_demographic_df)\n",
    "demographic_data_quality_report(patients_demographic_df)\n",
    "print(\"DATA QUALITY REPORT Completed\")\n"
   ]
  },
  {
   "cell_type": "markdown",
   "id": "7815536b-3e96-44ca-8d85-72040f4d9533",
   "metadata": {},
   "source": [
    "This is comment box\n"
   ]
  },
  {
   "cell_type": "code",
   "execution_count": null,
   "id": "ac5c8ef9-74d9-444a-91dd-81d105d2b339",
   "metadata": {},
   "outputs": [],
   "source": []
  }
 ],
 "metadata": {
  "kernelspec": {
   "display_name": "Python 3 (ipykernel)",
   "language": "python",
   "name": "python3"
  },
  "language_info": {
   "codemirror_mode": {
    "name": "ipython",
    "version": 3
   },
   "file_extension": ".py",
   "mimetype": "text/x-python",
   "name": "python",
   "nbconvert_exporter": "python",
   "pygments_lexer": "ipython3",
   "version": "3.12.7"
  }
 },
 "nbformat": 4,
 "nbformat_minor": 5
}
