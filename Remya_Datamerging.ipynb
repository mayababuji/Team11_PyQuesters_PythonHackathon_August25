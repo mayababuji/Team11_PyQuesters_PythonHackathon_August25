{
 "cells": [
  {
   "cell_type": "code",
   "execution_count": 15,
   "id": "7cadb754-9490-45ff-9f79-a075f0aea073",
   "metadata": {},
   "outputs": [],
   "source": [
    "#Importing all the Necessary Libraries\n",
    "# -------------------------------\n",
    "import pandas as pd\n",
    "import glob\n",
    "import os\n",
    "import numpy as np\n",
    "import matplotlib.pyplot as plt\n",
    "import seaborn as sns\n",
    "from ydata_profiling import ProfileReport"
   ]
  },
  {
   "cell_type": "code",
   "execution_count": null,
   "id": "a62a1046-2856-4a9d-a799-439f3a3c5a41",
   "metadata": {},
   "outputs": [],
   "source": [
    "**This section defines the file paths for the HUPA-UC Diabetes Dataset and various CSV outputs."
   ]
  },
  {
   "cell_type": "code",
   "execution_count": 22,
   "id": "1c847092-2eb9-489d-83b6-d16247e272bf",
   "metadata": {},
   "outputs": [],
   "source": [
    "#Downloads/PyQuesters_Python_Hackathon/HUPA-UC Diabetes Dataset\n",
    "path = r\"C:\\RemyaProjects2025\\Python Hackathon2025\\HUPA-UC Diabetes Dataset\"\n",
    "demographic_path = path + r\"\\T1DM_patient_sleep_demographics_with_race.csv\"\n",
    "all_patients_path = path + r\"ALL_PATIENTS.csv\"\n",
    "modified_demographic_path = path + r\"DEMOGRAPHIC.csv\"\n",
    "patients_demographic_path = path + r\"\\PATIENTS_WITH_DEMOGRAPHIC.csv\""
   ]
  },
  {
   "cell_type": "code",
   "execution_count": null,
   "id": "2d6e1b3e-b431-49fa-a5d2-3b983aa6b2c9",
   "metadata": {},
   "outputs": [],
   "source": [
    "This code reads all CSV files containing patient data, adds a patient_id column based on the filename, concatenates them into a single DataFrame, and saves it as a new CSV file.\n",
    "\n",
    "Each patient has their own CSV. To analyze across all patients, you must combine them into one unified DataFrame.\n",
    "How it helps?\n",
    "Easier comparisons across patients\n",
    "\n",
    "Standardizes your dataset for ML/EDA\n",
    "\n",
    "Adds patient_id so individual data isn’t lost after merging"
   ]
  },
  {
   "cell_type": "code",
   "execution_count": 23,
   "id": "c1570841-356f-4c55-859c-07446865e3a2",
   "metadata": {},
   "outputs": [
    {
     "name": "stdout",
     "output_type": "stream",
     "text": [
      "['C:\\\\RemyaProjects2025\\\\Python Hackathon2025\\\\HUPA-UC Diabetes Dataset\\\\HUPA0001P.csv', 'C:\\\\RemyaProjects2025\\\\Python Hackathon2025\\\\HUPA-UC Diabetes Dataset\\\\HUPA0002P.csv', 'C:\\\\RemyaProjects2025\\\\Python Hackathon2025\\\\HUPA-UC Diabetes Dataset\\\\HUPA0003P.csv', 'C:\\\\RemyaProjects2025\\\\Python Hackathon2025\\\\HUPA-UC Diabetes Dataset\\\\HUPA0004P.csv', 'C:\\\\RemyaProjects2025\\\\Python Hackathon2025\\\\HUPA-UC Diabetes Dataset\\\\HUPA0005P.csv', 'C:\\\\RemyaProjects2025\\\\Python Hackathon2025\\\\HUPA-UC Diabetes Dataset\\\\HUPA0006P.csv', 'C:\\\\RemyaProjects2025\\\\Python Hackathon2025\\\\HUPA-UC Diabetes Dataset\\\\HUPA0007P.csv', 'C:\\\\RemyaProjects2025\\\\Python Hackathon2025\\\\HUPA-UC Diabetes Dataset\\\\HUPA0009P.csv', 'C:\\\\RemyaProjects2025\\\\Python Hackathon2025\\\\HUPA-UC Diabetes Dataset\\\\HUPA0010P.csv', 'C:\\\\RemyaProjects2025\\\\Python Hackathon2025\\\\HUPA-UC Diabetes Dataset\\\\HUPA0011P.csv', 'C:\\\\RemyaProjects2025\\\\Python Hackathon2025\\\\HUPA-UC Diabetes Dataset\\\\HUPA0014P.csv', 'C:\\\\RemyaProjects2025\\\\Python Hackathon2025\\\\HUPA-UC Diabetes Dataset\\\\HUPA0015P.csv', 'C:\\\\RemyaProjects2025\\\\Python Hackathon2025\\\\HUPA-UC Diabetes Dataset\\\\HUPA0016P.csv', 'C:\\\\RemyaProjects2025\\\\Python Hackathon2025\\\\HUPA-UC Diabetes Dataset\\\\HUPA0017P.csv', 'C:\\\\RemyaProjects2025\\\\Python Hackathon2025\\\\HUPA-UC Diabetes Dataset\\\\HUPA0018P.csv', 'C:\\\\RemyaProjects2025\\\\Python Hackathon2025\\\\HUPA-UC Diabetes Dataset\\\\HUPA0019P.csv', 'C:\\\\RemyaProjects2025\\\\Python Hackathon2025\\\\HUPA-UC Diabetes Dataset\\\\HUPA0020P.csv', 'C:\\\\RemyaProjects2025\\\\Python Hackathon2025\\\\HUPA-UC Diabetes Dataset\\\\HUPA0021P.csv', 'C:\\\\RemyaProjects2025\\\\Python Hackathon2025\\\\HUPA-UC Diabetes Dataset\\\\HUPA0022P.csv', 'C:\\\\RemyaProjects2025\\\\Python Hackathon2025\\\\HUPA-UC Diabetes Dataset\\\\HUPA0023P.csv', 'C:\\\\RemyaProjects2025\\\\Python Hackathon2025\\\\HUPA-UC Diabetes Dataset\\\\HUPA0024P.csv', 'C:\\\\RemyaProjects2025\\\\Python Hackathon2025\\\\HUPA-UC Diabetes Dataset\\\\HUPA0025P.csv', 'C:\\\\RemyaProjects2025\\\\Python Hackathon2025\\\\HUPA-UC Diabetes Dataset\\\\HUPA0026P.csv', 'C:\\\\RemyaProjects2025\\\\Python Hackathon2025\\\\HUPA-UC Diabetes Dataset\\\\HUPA0027P.csv', 'C:\\\\RemyaProjects2025\\\\Python Hackathon2025\\\\HUPA-UC Diabetes Dataset\\\\HUPA0028P.csv']\n",
      "Index(['time', 'glucose', 'calories', 'heart_rate', 'steps', 'basal_rate',\n",
      "       'bolus_volume_delivered', 'carb_input', 'patient_id'],\n",
      "      dtype='object')\n"
     ]
    }
   ],
   "source": [
    "#Creating a dataframe by merging all csv files having patient data\n",
    "csv_files = glob.glob(os.path.join(path,\"H*.csv\"))\n",
    "print(csv_files)\n",
    "df_list =[]\n",
    "for file in csv_files:\n",
    "    patientId = os.path.basename(file).split(\".\")[0]\n",
    "    df = pd.read_csv(file,sep=\";\")\n",
    "    df[\"patient_id\"] = patientId\n",
    "    df_list.append(df)\n",
    "patients_df = pd.concat(df_list, ignore_index = True)\n",
    "print(patients_df.columns)\n",
    "patients_df.to_csv(all_patients_path,index=False)"
   ]
  },
  {
   "cell_type": "code",
   "execution_count": null,
   "id": "fb16c7b6-d513-4c90-9d53-9ac1700fc724",
   "metadata": {},
   "outputs": [],
   "source": [
    "Data Cleaning and Standardization\n",
    "Why needed?\n",
    "Standardizes column names to HUPA convention (lowercase, underscores).\n",
    "How it helps?\n",
    "Consistency across datasets\n",
    "Prevents merge errors (e.g., Patient_ID vs patient_id)\n",
    "Easier coding (no spaces or special chars in column names)"
   ]
  },
  {
   "cell_type": "code",
   "execution_count": 24,
   "id": "9fc18364-92fb-4d62-827f-55d4d3441d14",
   "metadata": {},
   "outputs": [
    {
     "name": "stdout",
     "output_type": "stream",
     "text": [
      "Index(['patient_id', 'age', 'gender', 'race', 'avg_sleep_duration_hrs',\n",
      "       'sleep_quality_score', 'sleep_disturbances_percentage'],\n",
      "      dtype='object')\n"
     ]
    }
   ],
   "source": [
    "#Renamed Column names as per the HUPA standred naming conventions and created new csv filedemographic_df = pd.read_csv(demographic_path)\n",
    "# Read demographic CSV\n",
    "demographic_df = pd.read_csv(demographic_path)\n",
    "demographic_df.rename(columns={\"Patient_ID\":\"patient_id\",\"Age\":\"age\",\"Gender\":\"gender\",\"Race\":\"race\",\"Average Sleep Duration (hrs)\":\"avg_sleep_duration_hrs\",\"Sleep Quality (1-10)\":\"sleep_quality_score\",\"% with Sleep Disturbances\":\"sleep_disturbances_percentage\"},inplace = True)\n",
    "print(demographic_df.columns)\n",
    "demographic_df.to_csv(modified_demographic_path, index=False)"
   ]
  },
  {
   "cell_type": "code",
   "execution_count": null,
   "id": "8f80d55b-95fd-4740-abb9-daa8562d5971",
   "metadata": {},
   "outputs": [],
   "source": [
    "This code merges the combined patient dataset with the demographic dataset on patient_id and saves the resulting DataFrame as a new CSV file.\n",
    "\n",
    "Key Steps:\n",
    "\n",
    "Merge DataFrames: Use pd.merge() with how=\"inner\" to combine patient and demographic datasets based on patient_id.\n",
    "Save CSV: Export the merged DataFrame to a CSV file without including the index column.\n",
    "Verify Columns: Check the resulting columns to ensure all patient and demographic data are included"
   ]
  },
  {
   "cell_type": "code",
   "execution_count": 25,
   "id": "2f596a48-2cf9-4398-a499-087c893a6d74",
   "metadata": {},
   "outputs": [
    {
     "data": {
      "text/plain": [
       "Index(['time', 'glucose', 'calories', 'heart_rate', 'steps', 'basal_rate',\n",
       "       'bolus_volume_delivered', 'carb_input', 'patient_id', 'age', 'gender',\n",
       "       'race', 'avg_sleep_duration_hrs', 'sleep_quality_score',\n",
       "       'sleep_disturbances_percentage'],\n",
       "      dtype='object')"
      ]
     },
     "execution_count": 25,
     "metadata": {},
     "output_type": "execute_result"
    }
   ],
   "source": [
    "#Dataframe for merged allpatients and demographic data and created csv file\n",
    "patients_demo_df = pd.merge(patients_df,demographic_df, on =\"patient_id\", how=\"inner\")\n",
    "patients_demo_df.to_csv(patients_demographic_path, index=False)\n",
    "patients_demo_df.columns"
   ]
  },
  {
   "cell_type": "code",
   "execution_count": null,
   "id": "35629e60-de45-4d4c-b4c4-b4e7eef174cd",
   "metadata": {},
   "outputs": [],
   "source": []
  }
 ],
 "metadata": {
  "kernelspec": {
   "display_name": "Python 3 (ipykernel)",
   "language": "python",
   "name": "python3"
  },
  "language_info": {
   "codemirror_mode": {
    "name": "ipython",
    "version": 3
   },
   "file_extension": ".py",
   "mimetype": "text/x-python",
   "name": "python",
   "nbconvert_exporter": "python",
   "pygments_lexer": "ipython3",
   "version": "3.12.7"
  }
 },
 "nbformat": 4,
 "nbformat_minor": 5
}
