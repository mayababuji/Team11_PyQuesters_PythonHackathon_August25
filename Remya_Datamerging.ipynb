{
 "cells": [
  {
   "cell_type": "code",
   "execution_count": 76,
   "id": "7cadb754-9490-45ff-9f79-a075f0aea073",
   "metadata": {},
   "outputs": [],
   "source": [
    "#Importing all the Necessary Libraries\n",
    "# -------------------------------\n",
    "import pandas as pd\n",
    "import glob\n",
    "import os"
   ]
  },
  {
   "cell_type": "code",
   "execution_count": 77,
   "id": "c1570841-356f-4c55-859c-07446865e3a2",
   "metadata": {},
   "outputs": [],
   "source": [
    "# Read & merge 25 CSV files\n",
    "# -------------------------------\n",
    "path = r\"C:\\RemyaProjects2025\\Python Hackathon2025\\HUPA-UC Diabetes Dataset\"\n",
    "all_files = glob.glob(path + \"/*.csv\")\n",
    "df_list = []\n",
    "\n",
    "for f in all_files:\n",
    "    df = pd.read_csv(f, sep=\";\")\n",
    "    \n",
    "       # --- Extract patient ID from file name without using os ---\n",
    "    filename = f.split(\"\\\\\")[-1]   # handles Windows paths → \"HUPA0001P.csv\"\n",
    "    patient_id = filename.replace(\".csv\", \"\")  # remove extension → \"HUPA0001P\"\n",
    "\n",
    "    # Add patient_id as a new column in the dataframe\n",
    "    df['Patient_ID'] = patient_id\n",
    "    \n",
    "    df_list.append(df)\n"
   ]
  },
  {
   "cell_type": "code",
   "execution_count": 78,
   "id": "ff28ad67-97ce-45c8-be4a-405a2f4e9b90",
   "metadata": {},
   "outputs": [
    {
     "name": "stdout",
     "output_type": "stream",
     "text": [
      "Merged CSV saved successfully!\n",
      "Merged shape: (309392, 9)\n"
     ]
    }
   ],
   "source": [
    "# Concatenate all DataFrames into one\n",
    "merged_df = pd.concat(df_list, ignore_index=True)\n",
    "# Save the merged CSV\n",
    "merged_df.to_csv(r\"C:\\RemyaProjects2025\\Python Hackathon2025\\Merged_with_patientID.csv\", index=False)\n",
    "\n",
    "print(\"Merged CSV saved successfully!\")\n",
    "print(\"Merged shape:\", merged_df.shape)\n"
   ]
  },
  {
   "cell_type": "code",
   "execution_count": 79,
   "id": "9b66395e-b696-4144-a900-7826d6b6d01d",
   "metadata": {},
   "outputs": [
    {
     "name": "stdout",
     "output_type": "stream",
     "text": [
      "\n",
      "Demographics data (first 10 rows):\n",
      "  Patient_ID  Age  Gender             Race  Average Sleep Duration (hrs)  \\\n",
      "0  HUPA0001P   34    Male            Other                           6.3   \n",
      "1  HUPA0002P   49    Male         Hispanic                           6.6   \n",
      "2  HUPA0003P   64    Male            Black                           5.3   \n",
      "3  HUPA0004P   34  Female  Native American                           5.2   \n",
      "4  HUPA0005P   49    Male  Native American                           5.8   \n",
      "5  HUPA0006P   35    Male            White                           6.6   \n",
      "6  HUPA0007P   67    Male  Native American                           7.1   \n",
      "7  HUPA0009P   65  Female            Other                           6.6   \n",
      "8  HUPA0010P   22    Male            Asian                           7.1   \n",
      "9  HUPA0011P   63  Female            Other                           5.6   \n",
      "\n",
      "   Sleep Quality (1-10)  % with Sleep Disturbances  \n",
      "0                   4.5                         80  \n",
      "1                   4.4                         40  \n",
      "2                   5.2                         70  \n",
      "3                   6.9                         60  \n",
      "4                   7.9                         30  \n",
      "5                   4.2                         60  \n",
      "6                   6.0                         80  \n",
      "7                   4.6                         40  \n",
      "8                   5.5                         50  \n",
      "9                   4.7                         60  \n",
      "Demographics shape: (25, 7)\n",
      "\n",
      "Full merged data (first 10 rows):\n",
      "                  time  glucose  calories  heart_rate  steps  basal_rate  \\\n",
      "0  2018-06-13T18:40:00    332.0    6.3595   82.322835   34.0    0.091667   \n",
      "1  2018-06-13T18:45:00    326.0    7.7280   83.740157    0.0    0.091667   \n",
      "2  2018-06-13T18:50:00    330.0    4.7495   80.525180    0.0    0.091667   \n",
      "3  2018-06-13T18:55:00    324.0    6.3595   89.129032   20.0    0.091667   \n",
      "4  2018-06-13T19:00:00    306.0    5.1520   92.495652    0.0    0.075000   \n",
      "5  2018-06-13T19:05:00    313.0    6.6010   92.000000    6.0    0.075000   \n",
      "6  2018-06-13T19:10:00    312.0   10.1430   91.339623   48.0    0.075000   \n",
      "7  2018-06-13T19:15:00    293.0    6.8425   89.893443    0.0    0.075000   \n",
      "8  2018-06-13T19:20:00    303.0    5.2325   89.352941    0.0    0.075000   \n",
      "9  2018-06-13T19:25:00    293.0    8.0500   89.778761   77.0    0.075000   \n",
      "\n",
      "   bolus_volume_delivered  carb_input Patient_ID  Age Gender   Race  \\\n",
      "0                     0.0         0.0  HUPA0001P   34   Male  Other   \n",
      "1                     0.0         0.0  HUPA0001P   34   Male  Other   \n",
      "2                     0.0         0.0  HUPA0001P   34   Male  Other   \n",
      "3                     0.0         0.0  HUPA0001P   34   Male  Other   \n",
      "4                     0.0         0.0  HUPA0001P   34   Male  Other   \n",
      "5                     0.0         0.0  HUPA0001P   34   Male  Other   \n",
      "6                     0.0         0.0  HUPA0001P   34   Male  Other   \n",
      "7                     0.0         0.0  HUPA0001P   34   Male  Other   \n",
      "8                     0.0         0.0  HUPA0001P   34   Male  Other   \n",
      "9                     0.0         0.0  HUPA0001P   34   Male  Other   \n",
      "\n",
      "   Average Sleep Duration (hrs)  Sleep Quality (1-10)  \\\n",
      "0                           6.3                   4.5   \n",
      "1                           6.3                   4.5   \n",
      "2                           6.3                   4.5   \n",
      "3                           6.3                   4.5   \n",
      "4                           6.3                   4.5   \n",
      "5                           6.3                   4.5   \n",
      "6                           6.3                   4.5   \n",
      "7                           6.3                   4.5   \n",
      "8                           6.3                   4.5   \n",
      "9                           6.3                   4.5   \n",
      "\n",
      "   % with Sleep Disturbances  \n",
      "0                         80  \n",
      "1                         80  \n",
      "2                         80  \n",
      "3                         80  \n",
      "4                         80  \n",
      "5                         80  \n",
      "6                         80  \n",
      "7                         80  \n",
      "8                         80  \n",
      "9                         80  \n",
      "Full merged shape: (309392, 15)\n"
     ]
    }
   ],
   "source": [
    "# -------------------------------\n",
    "# Load the demographics Excel\n",
    "# -------------------------------\n",
    "demographics_path = r\"C:\\RemyaProjects2025\\Python Hackathon2025\\Patientdemographics\\T1DM_patient_sleep_demographics_with_race.xlsx\"\n",
    "demographics_df = pd.read_excel(demographics_path)\n",
    "\n",
    "print(\"\\nDemographics data (first 10 rows):\")\n",
    "print(demographics_df.head(10))\n",
    "print(\"Demographics shape:\", demographics_df.shape)\n",
    "\n",
    "# -------------------------------\n",
    "# Merge CSV data with Demographics\n",
    "# -------------------------------\n",
    "full_df = pd.merge(merged_df, demographics_df, on='Patient_ID', how='left')\n",
    "\n",
    "# Preview merged data\n",
    "print(\"\\nFull merged data (first 10 rows):\")\n",
    "print(full_df.head(10))\n",
    "print(\"Full merged shape:\", full_df.shape)\n",
    "\n"
   ]
  },
  {
   "cell_type": "code",
   "execution_count": 72,
   "id": "f0ee0e97-6171-404b-a0b4-49e147a71ca1",
   "metadata": {},
   "outputs": [
    {
     "name": "stdout",
     "output_type": "stream",
     "text": [
      "Full merged dataset saved as CSV: C:\\RemyaProjects2025\\Python Hackathon2025\\full_merged_data.csv\n"
     ]
    }
   ],
   "source": [
    "output_csv_path = r\"C:\\RemyaProjects2025\\Python Hackathon2025\\full_merged_data.csv\"\n",
    "full_df.to_csv(output_csv_path, index=False)\n",
    "print(f\"Full merged dataset saved as CSV: {output_csv_path}\")\n"
   ]
  },
  {
   "cell_type": "code",
   "execution_count": null,
   "id": "80e08d66-8d42-4c0c-be60-9e8f229f8805",
   "metadata": {},
   "outputs": [],
   "source": []
  }
 ],
 "metadata": {
  "kernelspec": {
   "display_name": "Python 3 (ipykernel)",
   "language": "python",
   "name": "python3"
  },
  "language_info": {
   "codemirror_mode": {
    "name": "ipython",
    "version": 3
   },
   "file_extension": ".py",
   "mimetype": "text/x-python",
   "name": "python",
   "nbconvert_exporter": "python",
   "pygments_lexer": "ipython3",
   "version": "3.12.7"
  }
 },
 "nbformat": 4,
 "nbformat_minor": 5
}
